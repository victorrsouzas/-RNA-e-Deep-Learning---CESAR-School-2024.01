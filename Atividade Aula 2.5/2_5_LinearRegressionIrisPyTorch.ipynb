{
 "cells": [
  {
   "cell_type": "markdown",
   "metadata": {
    "id": "00N-Bst56zje"
   },
   "source": [
    "Aluno: Victor Renato Souza"
   ]
  },
  {
   "cell_type": "markdown",
   "metadata": {
    "id": "4PHBzchPHif1"
   },
   "source": [
    "# Regressão Linear com PyTorch"
   ]
  },
  {
   "cell_type": "markdown",
   "metadata": {
    "id": "GujG54RVHif3"
   },
   "source": [
    "## Objetivo"
   ]
  },
  {
   "cell_type": "markdown",
   "metadata": {
    "id": "GGxcJJDOHif4"
   },
   "source": [
    "Este exemplo utiliza regressão linear para estimar o comprimento das sépalas da íris a partir do seu comprimento das pétalas.\n",
    "Utiliza-se\n",
    "- o cálculo do gradiente automático do PyTorch, porém\n",
    "- a função de perda e\n",
    "- atualização dos parâmetros é feita de forma explícita.\n",
    "- A rede é criada com uma camada nn.Linear()"
   ]
  },
  {
   "cell_type": "markdown",
   "metadata": {
    "id": "6Q1aL4eOHif5"
   },
   "source": [
    "![alt text](https://raw.githubusercontent.com/vcasadei/images/master/RegressaoLinear_Otimizacao.png)"
   ]
  },
  {
   "cell_type": "markdown",
   "metadata": {
    "id": "D-OH95H9Hif6"
   },
   "source": [
    "## Importação dos pacotes"
   ]
  },
  {
   "cell_type": "code",
   "execution_count": 1,
   "metadata": {
    "ExecuteTime": {
     "end_time": "2017-11-23T23:50:37.321471Z",
     "start_time": "2017-11-23T23:50:35.620908Z"
    },
    "colab": {
     "base_uri": "https://localhost:8080/"
    },
    "id": "Rwd6UgfSHif8",
    "outputId": "bc24c0c6-2371-4446-c6d6-f3a5bf9b2e59"
   },
   "outputs": [
    {
     "data": {
      "text/plain": [
       "<torch._C.Generator at 0x7f5fc6954e10>"
      ]
     },
     "execution_count": 1,
     "metadata": {},
     "output_type": "execute_result"
    }
   ],
   "source": [
    "%matplotlib inline\n",
    "import matplotlib.pyplot as plt\n",
    "\n",
    "import numpy as np\n",
    "from sklearn.datasets import load_iris\n",
    "\n",
    "import torch\n",
    "from torch import nn, optim\n",
    "from torch.autograd import Variable\n",
    "\n",
    "torch.manual_seed(1234)"
   ]
  },
  {
   "cell_type": "markdown",
   "metadata": {
    "id": "tM6s6TDZHigH"
   },
   "source": [
    "## Leitura dos dados"
   ]
  },
  {
   "cell_type": "code",
   "execution_count": 2,
   "metadata": {
    "ExecuteTime": {
     "end_time": "2017-11-23T23:50:37.352459Z",
     "start_time": "2017-11-23T23:50:37.324344Z"
    },
    "colab": {
     "base_uri": "https://localhost:8080/"
    },
    "id": "e4YFUL0MHigI",
    "outputId": "52fb83d7-1fed-437c-ed86-f404c63431f6"
   },
   "outputs": [
    {
     "name": "stdout",
     "output_type": "stream",
     "text": [
      "x_train.shape: (50, 1) float32\n",
      "y_train.shape: (50, 1) float32\n",
      "x_train[:5]:\n",
      " [[7. ]\n",
      " [6.4]\n",
      " [6.9]\n",
      " [5.5]\n",
      " [6.5]]\n",
      "y_train[:5]:\n",
      " [[4.7]\n",
      " [4.5]\n",
      " [4.9]\n",
      " [4. ]\n",
      " [4.6]]\n"
     ]
    }
   ],
   "source": [
    "iris = load_iris()\n",
    "data = iris.data[iris.target==1,::2]  # comprimento das sépalas e pétalas, indices 0 e 2\n",
    "\n",
    "x_train = data[:,0:1].astype(np.float32)\n",
    "y_train = data[:,1:2].astype(np.float32)\n",
    "\n",
    "n_samples = x_train.shape[0]\n",
    "print('x_train.shape:',x_train.shape, x_train.dtype)\n",
    "print('y_train.shape:',y_train.shape, y_train.dtype)\n",
    "\n",
    "print('x_train[:5]:\\n', x_train[:5])\n",
    "print('y_train[:5]:\\n', y_train[:5])"
   ]
  },
  {
   "cell_type": "markdown",
   "metadata": {
    "id": "KiBZegbaHigL"
   },
   "source": [
    "### Normalização dos dados"
   ]
  },
  {
   "cell_type": "code",
   "execution_count": 3,
   "metadata": {
    "ExecuteTime": {
     "end_time": "2017-11-23T23:50:37.369738Z",
     "start_time": "2017-11-23T23:50:37.355827Z"
    },
    "id": "LXJmFubQHigN"
   },
   "outputs": [],
   "source": [
    "x_train -= x_train.min()\n",
    "x_train /= x_train.max()\n",
    "y_train -= y_train.min()\n",
    "y_train /= y_train.max()\n"
   ]
  },
  {
   "cell_type": "code",
   "execution_count": 4,
   "metadata": {
    "colab": {
     "base_uri": "https://localhost:8080/"
    },
    "id": "nYq87NbdHxZF",
    "outputId": "89baa3ee-128e-44d9-e28a-14ed151f4200"
   },
   "outputs": [
    {
     "name": "stdout",
     "output_type": "stream",
     "text": [
      "x_train[:5]:\n",
      " [[1.        ]\n",
      " [0.71428573]\n",
      " [0.952381  ]\n",
      " [0.28571424]\n",
      " [0.7619048 ]]\n",
      "y_train[:5]:\n",
      " [[0.80952376]\n",
      " [0.71428573]\n",
      " [0.90476197]\n",
      " [0.4761905 ]\n",
      " [0.7619048 ]]\n"
     ]
    }
   ],
   "source": [
    "print('x_train[:5]:\\n', x_train[:5])\n",
    "print('y_train[:5]:\\n', y_train[:5])"
   ]
  },
  {
   "cell_type": "code",
   "execution_count": 5,
   "metadata": {
    "ExecuteTime": {
     "end_time": "2017-11-23T23:50:37.381683Z",
     "start_time": "2017-11-23T23:50:37.375245Z"
    },
    "id": "epxtUveAHigP"
   },
   "outputs": [],
   "source": [
    "x_train_bias = np.hstack([np.ones(shape=(n_samples,1)), x_train])"
   ]
  },
  {
   "cell_type": "code",
   "execution_count": 6,
   "metadata": {
    "colab": {
     "base_uri": "https://localhost:8080/"
    },
    "collapsed": true,
    "id": "AgObmWFjH5x7",
    "outputId": "b1805e3a-1a00-4a94-cc44-c10b0429e10f"
   },
   "outputs": [
    {
     "data": {
      "text/plain": [
       "array([[1.        , 1.        ],\n",
       "       [1.        , 0.71428573],\n",
       "       [1.        , 0.95238101],\n",
       "       [1.        , 0.28571424],\n",
       "       [1.        , 0.76190478],\n",
       "       [1.        , 0.38095227],\n",
       "       [1.        , 0.66666675],\n",
       "       [1.        , 0.        ],\n",
       "       [1.        , 0.80952376],\n",
       "       [1.        , 0.14285702],\n",
       "       [1.        , 0.047619  ],\n",
       "       [1.        , 0.47619051],\n",
       "       [1.        , 0.52380949],\n",
       "       [1.        , 0.57142848],\n",
       "       [1.        , 0.33333325],\n",
       "       [1.        , 0.85714275],\n",
       "       [1.        , 0.33333325],\n",
       "       [1.        , 0.42857149],\n",
       "       [1.        , 0.61904752],\n",
       "       [1.        , 0.33333325],\n",
       "       [1.        , 0.47619051],\n",
       "       [1.        , 0.57142848],\n",
       "       [1.        , 0.66666675],\n",
       "       [1.        , 0.57142848],\n",
       "       [1.        , 0.71428573],\n",
       "       [1.        , 0.80952376],\n",
       "       [1.        , 0.90476197],\n",
       "       [1.        , 0.85714275],\n",
       "       [1.        , 0.52380949],\n",
       "       [1.        , 0.38095227],\n",
       "       [1.        , 0.28571424],\n",
       "       [1.        , 0.28571424],\n",
       "       [1.        , 0.42857149],\n",
       "       [1.        , 0.52380949],\n",
       "       [1.        , 0.23809525],\n",
       "       [1.        , 0.52380949],\n",
       "       [1.        , 0.85714275],\n",
       "       [1.        , 0.66666675],\n",
       "       [1.        , 0.33333325],\n",
       "       [1.        , 0.28571424],\n",
       "       [1.        , 0.28571424],\n",
       "       [1.        , 0.57142848],\n",
       "       [1.        , 0.42857149],\n",
       "       [1.        , 0.047619  ],\n",
       "       [1.        , 0.33333325],\n",
       "       [1.        , 0.38095227],\n",
       "       [1.        , 0.38095227],\n",
       "       [1.        , 0.61904752],\n",
       "       [1.        , 0.09523801],\n",
       "       [1.        , 0.38095227]])"
      ]
     },
     "execution_count": 6,
     "metadata": {},
     "output_type": "execute_result"
    }
   ],
   "source": [
    "x_train_bias"
   ]
  },
  {
   "cell_type": "code",
   "execution_count": 7,
   "metadata": {
    "colab": {
     "base_uri": "https://localhost:8080/"
    },
    "id": "7seVsEbJIHb3",
    "outputId": "de156221-020a-469e-9023-46edc911e3cf"
   },
   "outputs": [
    {
     "name": "stdout",
     "output_type": "stream",
     "text": [
      "x_train_bias.shape: (50, 2) float64\n"
     ]
    }
   ],
   "source": [
    "print('x_train_bias.shape:',x_train_bias.shape, x_train_bias.dtype)"
   ]
  },
  {
   "cell_type": "code",
   "execution_count": 8,
   "metadata": {
    "ExecuteTime": {
     "end_time": "2017-11-23T23:50:37.396626Z",
     "start_time": "2017-11-23T23:50:37.389139Z"
    },
    "colab": {
     "base_uri": "https://localhost:8080/"
    },
    "collapsed": true,
    "id": "3Enuu3LxHigR",
    "outputId": "951d848f-efed-4213-af7b-a512bc2968d1"
   },
   "outputs": [
    {
     "name": "stdout",
     "output_type": "stream",
     "text": [
      "tensor([[0.8095],\n",
      "        [0.7143],\n",
      "        [0.9048],\n",
      "        [0.4762],\n",
      "        [0.7619],\n",
      "        [0.7143],\n",
      "        [0.8095],\n",
      "        [0.1429],\n",
      "        [0.7619],\n",
      "        [0.4286],\n",
      "        [0.2381],\n",
      "        [0.5714],\n",
      "        [0.4762],\n",
      "        [0.8095],\n",
      "        [0.2857],\n",
      "        [0.6667],\n",
      "        [0.7143],\n",
      "        [0.5238],\n",
      "        [0.7143],\n",
      "        [0.4286],\n",
      "        [0.8571],\n",
      "        [0.4762],\n",
      "        [0.9048],\n",
      "        [0.8095],\n",
      "        [0.6190],\n",
      "        [0.6667],\n",
      "        [0.8571],\n",
      "        [0.9524],\n",
      "        [0.7143],\n",
      "        [0.2381],\n",
      "        [0.3810],\n",
      "        [0.3333],\n",
      "        [0.4286],\n",
      "        [1.0000],\n",
      "        [0.7143],\n",
      "        [0.7143],\n",
      "        [0.8095],\n",
      "        [0.6667],\n",
      "        [0.5238],\n",
      "        [0.4762],\n",
      "        [0.6667],\n",
      "        [0.7619],\n",
      "        [0.4762],\n",
      "        [0.1429],\n",
      "        [0.5714],\n",
      "        [0.5714],\n",
      "        [0.5714],\n",
      "        [0.6190],\n",
      "        [0.0000],\n",
      "        [0.5238]])\n"
     ]
    }
   ],
   "source": [
    "x_train_bias = torch.FloatTensor(x_train_bias)\n",
    "y_train      = torch.FloatTensor(y_train)\n",
    "print(y_train)"
   ]
  },
  {
   "cell_type": "markdown",
   "metadata": {
    "id": "35kUVzdrHigU"
   },
   "source": [
    "## Model"
   ]
  },
  {
   "cell_type": "markdown",
   "metadata": {
    "id": "8nv8uX7uHigU"
   },
   "source": [
    "![alt text](https://raw.githubusercontent.com/vcasadei/images/master/RegressaoLinearNeuronio.png)"
   ]
  },
  {
   "cell_type": "code",
   "execution_count": 9,
   "metadata": {
    "ExecuteTime": {
     "end_time": "2017-11-23T23:50:37.403510Z",
     "start_time": "2017-11-23T23:50:37.399234Z"
    },
    "id": "Ngq9EEi8HigV"
   },
   "outputs": [],
   "source": [
    "#Inicialização usando toch.nn.Linear\n",
    "\n",
    "model = torch.nn.Linear(in_features=2, out_features=1, bias=False)"
   ]
  },
  {
   "cell_type": "markdown",
   "metadata": {
    "id": "fz0E6uU2HigY"
   },
   "source": [
    "### Verificando a inicialização dos parâmetros"
   ]
  },
  {
   "cell_type": "code",
   "execution_count": 10,
   "metadata": {
    "ExecuteTime": {
     "end_time": "2017-11-23T23:50:37.418969Z",
     "start_time": "2017-11-23T23:50:37.409713Z"
    },
    "colab": {
     "base_uri": "https://localhost:8080/"
    },
    "id": "aKnVpTrnHigZ",
    "outputId": "ea07f97c-0e6e-4df4-a71d-f5bd7cbf607e"
   },
   "outputs": [
    {
     "name": "stderr",
     "output_type": "stream",
     "text": [
      "<ipython-input-10-4472ed23bcd1>:2: FutureWarning: `nn.init.uniform` is now deprecated in favor of `nn.init.uniform_`.\n",
      "  torch.nn.init.uniform(model.weight.data, -0.1, 0.1)\n"
     ]
    },
    {
     "data": {
      "text/plain": [
       "Parameter containing:\n",
       "tensor([[-0.0480, -0.0267]], requires_grad=True)"
      ]
     },
     "execution_count": 10,
     "metadata": {},
     "output_type": "execute_result"
    }
   ],
   "source": [
    "model.weight.data = torch.zeros(1,2)\n",
    "torch.nn.init.uniform(model.weight.data, -0.1, 0.1)\n",
    "model.weight"
   ]
  },
  {
   "cell_type": "markdown",
   "metadata": {
    "id": "mq22EwyFHigc"
   },
   "source": [
    "### Testando o predict da rede"
   ]
  },
  {
   "cell_type": "code",
   "execution_count": 11,
   "metadata": {
    "ExecuteTime": {
     "end_time": "2017-11-23T23:50:37.497945Z",
     "start_time": "2017-11-23T23:50:37.422209Z"
    },
    "colab": {
     "base_uri": "https://localhost:8080/"
    },
    "id": "dyCO8PL_Hige",
    "outputId": "7d94cf52-b3c2-45db-f9b1-e19bc9c219e5"
   },
   "outputs": [
    {
     "data": {
      "text/plain": [
       "tensor([[1., 1.],\n",
       "        [1., 1.],\n",
       "        [1., 1.],\n",
       "        [1., 1.],\n",
       "        [1., 1.]])"
      ]
     },
     "execution_count": 11,
     "metadata": {},
     "output_type": "execute_result"
    }
   ],
   "source": [
    "xx = torch.ones((5,2))\n",
    "xx"
   ]
  },
  {
   "cell_type": "code",
   "execution_count": 12,
   "metadata": {
    "colab": {
     "base_uri": "https://localhost:8080/"
    },
    "id": "kpxZmYMsJF7F",
    "outputId": "0dfe2507-a741-497c-ef4a-eab109456f95"
   },
   "outputs": [
    {
     "data": {
      "text/plain": [
       "tensor([[-0.0747],\n",
       "        [-0.0747],\n",
       "        [-0.0747],\n",
       "        [-0.0747],\n",
       "        [-0.0747]], grad_fn=<MmBackward0>)"
      ]
     },
     "execution_count": 12,
     "metadata": {},
     "output_type": "execute_result"
    }
   ],
   "source": [
    "model(Variable(xx))"
   ]
  },
  {
   "cell_type": "markdown",
   "metadata": {
    "id": "llozQQShHigg"
   },
   "source": [
    "## Treinamento"
   ]
  },
  {
   "cell_type": "code",
   "execution_count": 13,
   "metadata": {
    "ExecuteTime": {
     "end_time": "2017-11-23T23:50:37.534983Z",
     "start_time": "2017-11-23T23:50:37.501215Z"
    },
    "colab": {
     "base_uri": "https://localhost:8080/"
    },
    "id": "GEY2W_eaHigh",
    "outputId": "f1dc9dab-6fa1-4df2-cfd9-962413908e4e",
    "scrolled": false
   },
   "outputs": [
    {
     "name": "stdout",
     "output_type": "stream",
     "text": [
      "Epoch[20/100], loss: 0.022983\n",
      "Epoch[40/100], loss: 0.021432\n",
      "Epoch[60/100], loss: 0.021207\n",
      "Epoch[80/100], loss: 0.021175\n",
      "Epoch[100/100], loss: 0.021170\n"
     ]
    }
   ],
   "source": [
    "num_epochs = 100\n",
    "learning_rate = 0.5\n",
    "for epoch in range(num_epochs):\n",
    "    inputs = Variable(x_train_bias)\n",
    "    target = Variable(y_train)\n",
    "\n",
    "    # forward - predict\n",
    "    y_pred = model(x_train_bias)\n",
    "\n",
    "    #loss cálculo da função de perda\n",
    "    loss = torch.mean((y_pred - y_train)**2)\n",
    "\n",
    "    # backward propagation - cálculo gradient\n",
    "    loss.backward()\n",
    "\n",
    "    # gradiente descendente\n",
    "    model.weight.data = model.weight.data - learning_rate * model.weight.grad.data\n",
    "\n",
    "    # zeragem parâmetros próximo cálculo do gradiente\n",
    "    model.weight.grad.data.zero_()\n",
    "\n",
    "    # verbose\n",
    "    if (epoch+1) % 20 == 0:\n",
    "        print('Epoch[{}/{}], loss: {:.6f}'\n",
    "              .format(epoch+1, num_epochs, loss.data))"
   ]
  },
  {
   "cell_type": "markdown",
   "metadata": {
    "heading_collapsed": true,
    "id": "OyUB8WAmHigk"
   },
   "source": [
    "## Avaliação"
   ]
  },
  {
   "cell_type": "code",
   "execution_count": 14,
   "metadata": {
    "ExecuteTime": {
     "end_time": "2017-11-23T23:50:37.785652Z",
     "start_time": "2017-11-23T23:50:37.538639Z"
    },
    "colab": {
     "base_uri": "https://localhost:8080/",
     "height": 430
    },
    "hidden": true,
    "id": "9ire-2nCHigl",
    "outputId": "236b38e0-c82c-4f98-a3f8-5d030423b09c"
   },
   "outputs": [
    {
     "data": {
      "image/png": "[encoded data removed]",
      "text/plain": [
       "<Figure size 640x480 with 1 Axes>"
      ]
     },
     "metadata": {},
     "output_type": "display_data"
    }
   ],
   "source": [
    "y_pred = model(Variable(x_train_bias))\n",
    "plt.plot(x_train, y_train.numpy(), 'ro', label='Original data')\n",
    "plt.plot(x_train, y_pred.data.numpy(), 'kx-', label='Fitting Line')\n",
    "plt.show()"
   ]
  },
  {
   "cell_type": "markdown",
   "metadata": {
    "hidden": true,
    "id": "-jQncN7PHigp"
   },
   "source": [
    "### Acessando os parâmetros"
   ]
  },
  {
   "cell_type": "code",
   "execution_count": 15,
   "metadata": {
    "ExecuteTime": {
     "end_time": "2017-11-23T23:50:37.797767Z",
     "start_time": "2017-11-23T23:50:37.787839Z"
    },
    "colab": {
     "base_uri": "https://localhost:8080/"
    },
    "hidden": true,
    "id": "byxPWYlFHigq",
    "outputId": "3b8e7f1b-1841-46a5-cd93-859a6f2a79ff"
   },
   "outputs": [
    {
     "data": {
      "text/plain": [
       "OrderedDict([('weight', tensor([[0.2631, 0.6830]]))])"
      ]
     },
     "execution_count": 15,
     "metadata": {},
     "output_type": "execute_result"
    }
   ],
   "source": [
    "w_dic = model.state_dict()\n",
    "w_dic"
   ]
  },
  {
   "cell_type": "markdown",
   "metadata": {
    "hidden": true,
    "id": "mGK_1QtNHigw"
   },
   "source": [
    "### Parâmetros ótimos, solução analítica"
   ]
  },
  {
   "cell_type": "code",
   "execution_count": 16,
   "metadata": {
    "ExecuteTime": {
     "end_time": "2017-11-23T23:50:37.809980Z",
     "start_time": "2017-11-23T23:50:37.800833Z"
    },
    "colab": {
     "base_uri": "https://localhost:8080/"
    },
    "hidden": true,
    "id": "5jrFm0pXHigx",
    "outputId": "76068913-e7b9-4b6f-f527-65b4b096d62e"
   },
   "outputs": [
    {
     "name": "stdout",
     "output_type": "stream",
     "text": [
      "tensor([[0.2613, 0.6865]])\n"
     ]
    }
   ],
   "source": [
    "x_bias = x_train_bias\n",
    "y = y_train\n",
    "x_bias_t = torch.t(x_bias)\n",
    "w_opt = (torch.inverse(x_bias_t.mm(x_bias)).mm(x_bias_t)).mm(y)\n",
    "print(torch.t(w_opt))"
   ]
  },
  {
   "cell_type": "markdown",
   "metadata": {
    "collapsed": true,
    "heading_collapsed": true,
    "id": "AmTLHbBcHig3"
   },
   "source": [
    "# Exercícios"
   ]
  },
  {
   "cell_type": "markdown",
   "metadata": {
    "hidden": true,
    "id": "0826M7y0Hig5"
   },
   "source": [
    "- 1) Por que no final da varredura do laço de treinamento, a perda é impressa utilizando\n",
    "   `loss.data`? Por que precisa do `data`?\n",
    "   \n",
    "   R: O uso de `loss.data` é garantir que estamos medindo a perda apenas sobre o dataset específico, sem ratrear gradientes.\n",
    "    \n",
    "   E usamos o `data` para garantir que estamos medindo a perda apenas sobre o dataset, sem incluir termos extras que podem estar presentes em outras partes do cálculo de perda"
   ]
  },
  {
   "cell_type": "markdown",
   "metadata": {
    "hidden": true,
    "id": "cUhiv-56Hig5"
   },
   "source": [
    "- 2) Calcule e imprima o valor da perda (MSE) fazendo o predict da rede com os pesos já\n",
    "   treinados."
   ]
  },
  {
   "cell_type": "code",
   "execution_count": 17,
   "metadata": {
    "colab": {
     "base_uri": "https://localhost:8080/"
    },
    "id": "xJNsr39A10Hg",
    "outputId": "a60c44a2-2772-4632-9b82-461d132b3c04"
   },
   "outputs": [
    {
     "name": "stdout",
     "output_type": "stream",
     "text": [
      "Perda (MSE) com os pesos treinados: tensor(8.4967e-05)\n"
     ]
    }
   ],
   "source": [
    "y_pred_trained = model(Variable(x_train_bias))\n",
    "\n",
    "# Calcular a perda (MSE)\n",
    "loss_trained = torch.mean((y_pred_trained - y_train).mean())\n",
    "\n",
    "print(\"Perda (MSE) com os pesos treinados:\", loss_trained.data)"
   ]
  },
  {
   "cell_type": "markdown",
   "metadata": {
    "hidden": true,
    "id": "pwrS4OGkHig7"
   },
   "source": [
    "- 3) Crie duas listas `w0_list` e `w1_list` para guardar a evolução dos valores dos\n",
    "   parâmetros durante o laço de treinamento.\n",
    "   Modifique o exemplo do gráfico tipo **scatter plot** para visualizar a variação\n",
    "   dos parâmetros do modelo duas dimensões.\n",
    "   Marque neste gráfico o valor ótimo do parâmetro dado pela solução\n",
    "   analítica."
   ]
  },
  {
   "cell_type": "code",
   "execution_count": 18,
   "metadata": {
    "colab": {
     "base_uri": "https://localhost:8080/",
     "height": 564
    },
    "id": "PhU3kB4v143t",
    "outputId": "f30af6c5-e0d9-4d1c-affb-baa3cdaab4c6"
   },
   "outputs": [
    {
     "data": {
      "image/png": "[encoded data removed]",
      "text/plain": [
       "<Figure size 1000x600 with 1 Axes>"
      ]
     },
     "metadata": {},
     "output_type": "display_data"
    }
   ],
   "source": [
    "w0_list, w1_list = [], []\n",
    "\n",
    "# Loop de treinamento\n",
    "for epoch in range(num_epochs):\n",
    "    y_pred = model(x_train_bias)\n",
    "    loss = torch.mean((y_pred - y_train) ** 2)\n",
    "    loss.backward()\n",
    "\n",
    "    w0_list.append(model.weight.data[0, 0].item())\n",
    "    w1_list.append(model.weight.data[0, 1].item())\n",
    "\n",
    "    with torch.no_grad():\n",
    "        model.weight.data -= learning_rate * model.weight.grad.data\n",
    "    model.weight.grad.zero_()\n",
    "\n",
    "\n",
    "x_bias = x_train_bias\n",
    "y = y_train\n",
    "optimal_w = torch.inverse(x_bias.t().mm(x_bias)).mm(x_bias.t()).mm(y)\n",
    "optimal_w0, optimal_w1 = optimal_w[0].item(), optimal_w[1].item()\n",
    "\n",
    "step = max(1, len(w0_list) // 20)  # Plotar no máximo 20 pontos\n",
    "w0_subset = w0_list[::step]\n",
    "w1_subset = w1_list[::step]\n",
    "\n",
    "plt.figure(figsize=(10, 6))\n",
    "plt.scatter(w0_subset, w1_subset, c='blue', label=\"Trajetória dos Pesos\")\n",
    "\n",
    "w0_old, w1_old = None, None\n",
    "for w0, w1 in zip(w0_subset, w1_subset):\n",
    "    if w0_old is not None:\n",
    "        plt.arrow(w0_old, w1_old, w0 - w0_old, w1 - w1_old,\n",
    "                  head_length=0.0005, head_width=0.0005, shape='full',\n",
    "                  color='black', length_includes_head=True, alpha=0.8)\n",
    "    w0_old, w1_old = w0, w1\n",
    "\n",
    "plt.scatter(w0_list[0], w1_list[0], marker='o', s=100, c='purple', label=\"Ponto inicial\")\n",
    "\n",
    "plt.scatter(optimal_w0, optimal_w1, marker='*', s=200, c='green', label=\"Ponto ótimo\")\n",
    "\n",
    "plt.xlabel(\"Peso w0\")\n",
    "plt.ylabel(\"Peso w1\")\n",
    "plt.title(\"Evolução dos Pesos no Treinamento com Vetores (Ajustado)\")\n",
    "plt.legend()\n",
    "plt.grid(True)\n",
    "plt.show()\n",
    "\n"
   ]
  },
  {
   "cell_type": "markdown",
   "metadata": {
    "hidden": true,
    "id": "9zKM4-2UHig7"
   },
   "source": [
    "## Ploting vectors"
   ]
  },
  {
   "cell_type": "code",
   "execution_count": 19,
   "metadata": {
    "ExecuteTime": {
     "end_time": "2017-11-23T23:57:26.723894Z",
     "start_time": "2017-11-23T23:57:26.517830Z"
    },
    "colab": {
     "base_uri": "https://localhost:8080/",
     "height": 430
    },
    "hidden": true,
    "id": "hXA1HhnsHig8",
    "outputId": "5b8de67a-bab5-4e1a-b716-16ddc7e94dd6"
   },
   "outputs": [
    {
     "data": {
      "image/png": "[encoded data removed]",
      "text/plain": [
       "<Figure size 640x480 with 1 Axes>"
      ]
     },
     "metadata": {},
     "output_type": "display_data"
    }
   ],
   "source": [
    "# Exemplo\n",
    "w0_list = [0.1, 0.15, 0.2, 0.3]\n",
    "w1_list = [0.1, 0.2, 0.18, 0.3]\n",
    "plt.scatter(w0_list,w1_list)\n",
    "w0_old = None\n",
    "for (w0,w1) in zip(w0_list,w1_list):\n",
    "    if w0_old:\n",
    "        plt.arrow(w0_old, w1_old, w0-w0_old, w1-w1_old,\n",
    "                  head_length=0.01,head_width=0.01,shape='full',\n",
    "                  length_includes_head=True)\n",
    "    w0_old,w1_old = w0,w1"
   ]
  },
  {
   "cell_type": "markdown",
   "metadata": {
    "heading_collapsed": true,
    "id": "ssef368KHihA"
   },
   "source": [
    "# Aprendizados"
   ]
  },
  {
   "cell_type": "markdown",
   "metadata": {
    "id": "7qfKQl-56R7d"
   },
   "source": [
    "O uso do `loss.data` é essencial para capturar apenas o valor escalar da perda, sem rastrear os gradientes.\n",
    "\n",
    "O MSE muito baixo indica que o modelo conseguiu se ajustar bem os dados.\n",
    "\n",
    "O gráfico ilustra a convergência dos pesos w0 e w1 para um valor bom. E a trajetoria é bem definida, indicando que o gradiente descendente está funcionando corretamente."
   ]
  },
  {
   "cell_type": "code",
   "execution_count": 19,
   "metadata": {
    "hidden": true,
    "id": "CrrRGo2CHihA"
   },
   "outputs": [],
   "source": []
  }
 ],
 "metadata": {
  "accelerator": "TPU",
  "colab": {
   "gpuType": "V28",
   "name": "2.5-LinearRegressionIrisPyTorch.ipynb",
   "provenance": []
  },
  "kernelspec": {
   "display_name": "Python 3",
   "language": "python",
   "name": "python3"
  },
  "language_info": {
   "name": "python",
   "version": "3.12.3"
  }
 },
 "nbformat": 4,
 "nbformat_minor": 0
}
