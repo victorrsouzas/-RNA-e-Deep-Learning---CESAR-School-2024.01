{
  "cells": [
    {
      "cell_type": "markdown",
      "source": [
        "Aluno: Victor Souza"
      ],
      "metadata": {
        "id": "uUj4kwzDabMa"
      }
    },
    {
      "cell_type": "markdown",
      "metadata": {
        "id": "B3td_pl4mvQD"
      },
      "source": [
        "# Regressão Softmax com dados do MNIST"
      ]
    },
    {
      "cell_type": "markdown",
      "metadata": {
        "id": "DtkJT-FtmvQE"
      },
      "source": [
        "## Objetivo"
      ]
    },
    {
      "cell_type": "markdown",
      "metadata": {
        "id": "hF-ByQKJmvQF"
      },
      "source": [
        "O objetivo deste notebook é ilustrar o uso de praticamente a mesma rede desenvolvida para a classificação das flores Íris, porém agora com o problema de classificação de dígitos manuscritos utilizando o dataset MNIST.\n",
        "As principais diferenças são:\n",
        "- tipo do dado, agora imagem com muito atributos: 28 x 28 pixels\n",
        "- número de amostras, muito maior, 60 mil\n",
        "Neste exercício será possível a interpretação do significado dos parâmetros treinados"
      ]
    },
    {
      "cell_type": "markdown",
      "metadata": {
        "id": "HGsYwaRemvQH"
      },
      "source": [
        "## Importação das bibliotecas"
      ]
    },
    {
      "cell_type": "code",
      "execution_count": 1,
      "metadata": {
        "ExecuteTime": {
          "end_time": "2017-11-24T15:44:50.097111",
          "start_time": "2017-11-24T15:44:48.915046"
        },
        "id": "JeBH-PI4mvQI"
      },
      "outputs": [],
      "source": [
        "%matplotlib inline\n",
        "import numpy as np\n",
        "import matplotlib.pyplot as plt\n",
        "import pandas as pd\n",
        "\n",
        "from torch.autograd import Variable\n",
        "import torch\n",
        "import torchvision"
      ]
    },
    {
      "cell_type": "markdown",
      "metadata": {
        "id": "FLEq8nmUmvQL"
      },
      "source": [
        "## Carregamento dos dados do MNIST"
      ]
    },
    {
      "cell_type": "code",
      "execution_count": 2,
      "metadata": {
        "colab": {
          "base_uri": "https://localhost:8080/"
        },
        "id": "5ueXR4zIo5wQ",
        "outputId": "a763fd0a-51c7-4478-d56f-edeb840a9b2e",
        "collapsed": true
      },
      "outputs": [
        {
          "output_type": "stream",
          "name": "stdout",
          "text": [
            "Cloning into 'MNIST'...\n",
            "remote: Enumerating objects: 10, done.\u001b[K\n",
            "remote: Total 10 (delta 0), reused 0 (delta 0), pack-reused 10 (from 1)\u001b[K\n",
            "Receiving objects: 100% (10/10), 11.01 MiB | 17.62 MiB/s, done.\n",
            "Resolving deltas: 100% (2/2), done.\n"
          ]
        }
      ],
      "source": [
        "! git clone https://github.com/vcasadei/MNIST.git"
      ]
    },
    {
      "cell_type": "code",
      "execution_count": 3,
      "metadata": {
        "ExecuteTime": {
          "end_time": "2017-11-24T15:44:50.638218",
          "start_time": "2017-11-24T15:44:50.098808"
        },
        "colab": {
          "base_uri": "https://localhost:8080/"
        },
        "id": "xZWPIWlumvQM",
        "outputId": "769f3700-2e7d-42eb-9c1e-07751a124150",
        "collapsed": true
      },
      "outputs": [
        {
          "output_type": "stream",
          "name": "stdout",
          "text": [
            "Amostras de treinamento: 60000\n",
            "\n",
            "Dimensões dos dados das imagens:    torch.Size([60000, 28, 28])\n",
            "Valores mínimo e máximo dos pixels: tensor(0, dtype=torch.uint8) tensor(255, dtype=torch.uint8)\n",
            "Tipo dos dados das imagens:         <class 'torch.Tensor'>\n",
            "Tipo das classes das imagens:       <class 'torch.Tensor'>\n"
          ]
        },
        {
          "output_type": "stream",
          "name": "stderr",
          "text": [
            "<ipython-input-3-6143b94785d1>:3: FutureWarning: You are using `torch.load` with `weights_only=False` (the current default value), which uses the default pickle module implicitly. It is possible to construct malicious pickle data which will execute arbitrary code during unpickling (See https://github.com/pytorch/pytorch/blob/main/SECURITY.md#untrusted-models for more details). In a future release, the default value for `weights_only` will be flipped to `True`. This limits the functions that could be executed during unpickling. Arbitrary objects will no longer be allowed to be loaded via this mode unless they are explicitly allowlisted by the user via `torch.serialization.add_safe_globals`. We recommend you start setting `weights_only=True` for any use case where you don't have full control of the loaded file. Please open an issue on GitHub for any issues related to this experimental feature.\n",
            "  x_train, y_train = torch.load(dataset_dir + 'processed/training.pt')\n"
          ]
        }
      ],
      "source": [
        "dataset_dir = 'MNIST/'\n",
        "\n",
        "x_train, y_train = torch.load(dataset_dir + 'processed/training.pt')\n",
        "\n",
        "print(\"Amostras de treinamento:\", x_train.size(0))\n",
        "\n",
        "print(\"\\nDimensões dos dados das imagens:   \", x_train.size())\n",
        "print(\"Valores mínimo e máximo dos pixels:\", torch.min(x_train), torch.max(x_train))\n",
        "print(\"Tipo dos dados das imagens:        \", type(x_train))\n",
        "print(\"Tipo das classes das imagens:      \", type(y_train))"
      ]
    },
    {
      "cell_type": "markdown",
      "metadata": {
        "id": "uR2L0QQgmvQU"
      },
      "source": [
        "### Carregamento, normalização e seleção dos dados do MNIST\n",
        "\n",
        "Neste exemplo utilizaremos apenas 1000 amostras de treinamento."
      ]
    },
    {
      "cell_type": "code",
      "execution_count": 4,
      "metadata": {
        "ExecuteTime": {
          "end_time": "2017-11-24T15:44:50.895668",
          "start_time": "2017-11-24T15:44:50.640110"
        },
        "colab": {
          "base_uri": "https://localhost:8080/"
        },
        "id": "C9Rh7wRemvQU",
        "outputId": "d8910007-cb7c-474d-d8c8-00a586fd6014"
      },
      "outputs": [
        {
          "output_type": "stream",
          "name": "stdout",
          "text": [
            "Amostras de treinamento: 1000\n",
            "\n",
            "Dimensões dos dados das imagens:    torch.Size([1000, 28, 28])\n",
            "Valores mínimo e máximo dos pixels: tensor(0.) tensor(1.)\n",
            "Tipo dos dados das imagens:         <class 'torch.Tensor'>\n",
            "Tipo das classes das imagens:       <class 'torch.Tensor'>\n"
          ]
        }
      ],
      "source": [
        "x_train = x_train.float()\n",
        "\n",
        "x_train = x_train / 255.\n",
        "\n",
        "if True:\n",
        "    n_samples_train = 1000\n",
        "\n",
        "    x_train = x_train[:n_samples_train]\n",
        "    y_train = y_train[:n_samples_train]\n",
        "\n",
        "print(\"Amostras de treinamento:\", x_train.size(0))\n",
        "\n",
        "print(\"\\nDimensões dos dados das imagens:   \", x_train.size())\n",
        "print(\"Valores mínimo e máximo dos pixels:\", torch.min(x_train), torch.max(x_train))\n",
        "print(\"Tipo dos dados das imagens:        \", type(x_train))\n",
        "print(\"Tipo das classes das imagens:      \", type(y_train))"
      ]
    },
    {
      "cell_type": "markdown",
      "metadata": {
        "id": "6UtzmsQimvQa"
      },
      "source": [
        "### Visualizando os dados"
      ]
    },
    {
      "cell_type": "code",
      "execution_count": 5,
      "metadata": {
        "ExecuteTime": {
          "end_time": "2017-11-24T16:32:19.474568",
          "start_time": "2017-11-24T16:32:19.207270"
        },
        "colab": {
          "base_uri": "https://localhost:8080/",
          "height": 493
        },
        "id": "gFG0qpODmvQa",
        "outputId": "43bcd927-741e-4629-8f80-68922e963053"
      },
      "outputs": [
        {
          "output_type": "execute_result",
          "data": {
            "text/plain": [
              "(-0.5, 232.5, 87.5, -0.5)"
            ]
          },
          "metadata": {},
          "execution_count": 5
        },
        {
          "output_type": "display_data",
          "data": {
            "text/plain": [
              "<Figure size 1500x1000 with 1 Axes>"
            ],
            "image/png": "[encoded data removed]"
          },
          "metadata": {}
        }
      ],
      "source": [
        "n_samples = 24\n",
        "\n",
        "# cria um grid com as imagens\n",
        "grid = torchvision.utils.make_grid(x_train[:n_samples].unsqueeze(1), pad_value=1.0, padding=1)\n",
        "\n",
        "plt.figure(figsize=(15, 10))\n",
        "plt.imshow(grid.numpy().transpose(1, 2, 0))\n",
        "plt.axis('off')"
      ]
    },
    {
      "cell_type": "markdown",
      "metadata": {
        "id": "075sVFBZmvQe"
      },
      "source": [
        "### Visualizando uma imagem com o matplotlib"
      ]
    },
    {
      "cell_type": "code",
      "execution_count": 6,
      "metadata": {
        "ExecuteTime": {
          "end_time": "2017-11-24T15:44:51.413232",
          "start_time": "2017-11-24T15:44:51.251376"
        },
        "colab": {
          "base_uri": "https://localhost:8080/",
          "height": 447
        },
        "id": "3W2NpeW0mvQg",
        "outputId": "3aaec2a8-625a-491f-a149-fa7f9aadf8c7"
      },
      "outputs": [
        {
          "output_type": "stream",
          "name": "stdout",
          "text": [
            "class: tensor(5)\n"
          ]
        },
        {
          "output_type": "display_data",
          "data": {
            "text/plain": [
              "<Figure size 640x480 with 1 Axes>"
            ],
            "image/png": "[encoded data removed]"
          },
          "metadata": {}
        }
      ],
      "source": [
        "image  = x_train[0]\n",
        "target = y_train[0]\n",
        "\n",
        "plt.imshow(image.numpy().reshape(28,28), cmap='gray')\n",
        "print('class:', target)"
      ]
    },
    {
      "cell_type": "markdown",
      "metadata": {
        "id": "SU-PzteEmvQj"
      },
      "source": [
        "## Modelo"
      ]
    },
    {
      "cell_type": "code",
      "execution_count": 7,
      "metadata": {
        "ExecuteTime": {
          "end_time": "2017-11-24T15:44:51.419287",
          "start_time": "2017-11-24T15:44:51.415065"
        },
        "id": "VKMngBWzmvQk"
      },
      "outputs": [],
      "source": [
        "model = torch.nn.Linear(28*28, 10) # 28*28 atributos de entrada e 10 neurônios na sáida"
      ]
    },
    {
      "cell_type": "markdown",
      "metadata": {
        "id": "uzvpr1u6mvQo"
      },
      "source": [
        "### Testando um predict com poucas amostras"
      ]
    },
    {
      "cell_type": "code",
      "execution_count": 8,
      "metadata": {
        "id": "KiiO8WDAmvQq",
        "outputId": "ee20cc5e-d5e2-468b-9879-f6de1e55e84e",
        "colab": {
          "base_uri": "https://localhost:8080/",
          "height": 315
        }
      },
      "outputs": [
        {
          "output_type": "stream",
          "name": "stdout",
          "text": [
            "Previsões do modelo: [8 2 5 1 0]\n",
            "Rótulos reais: [5 0 4 1 9]\n"
          ]
        },
        {
          "output_type": "display_data",
          "data": {
            "text/plain": [
              "<Figure size 1500x500 with 5 Axes>"
            ],
            "image/png": "[encoded data removed]"
          },
          "metadata": {}
        }
      ],
      "source": [
        "## TODO\n",
        "# Selecionando algumas amostras para teste\n",
        "n_samples = 5\n",
        "x_sample = x_train[:n_samples]\n",
        "y_sample = y_train[:n_samples]\n",
        "\n",
        "# Redimensionando as entradas para o formato aceito pelo modelo\n",
        "x_sample_flattened = x_sample.view(-1, 28*28)\n",
        "\n",
        "# Fazendo o predict com o modelo treinado\n",
        "y_pred_logits = model(x_sample_flattened)\n",
        "y_pred = torch.argmax(y_pred_logits, dim=1)\n",
        "\n",
        "# Exibindo resultados\n",
        "print(\"Previsões do modelo:\", y_pred.numpy())\n",
        "print(\"Rótulos reais:\", y_sample.numpy())\n",
        "\n",
        "# Visualizando as amostras\n",
        "fig, axs = plt.subplots(1, n_samples, figsize=(15, 5))\n",
        "for i in range(n_samples):\n",
        "    axs[i].imshow(x_sample[i].numpy(), cmap='gray')\n",
        "    axs[i].set_title(f\"Previsto: {y_pred[i]}\\nReal: {y_sample[i]}\")\n",
        "    axs[i].axis('off')\n",
        "plt.show()\n"
      ]
    },
    {
      "cell_type": "markdown",
      "metadata": {
        "id": "tIIeicyGmvQs"
      },
      "source": [
        "## Treinamento"
      ]
    },
    {
      "cell_type": "markdown",
      "metadata": {
        "id": "tSfqKNW2mvQt"
      },
      "source": [
        "### Inicialização dos parâmetros"
      ]
    },
    {
      "cell_type": "code",
      "execution_count": 9,
      "metadata": {
        "ExecuteTime": {
          "end_time": "2017-11-24T15:44:51.425768",
          "start_time": "2017-11-24T15:44:51.420825"
        },
        "id": "I9W3OFvomvQu"
      },
      "outputs": [],
      "source": [
        "epochs = 5\n",
        "learningRate = 0.5\n",
        "\n",
        "# Utilizaremos CrossEntropyLoss como função de perda\n",
        "criterion = torch.nn.CrossEntropyLoss()\n",
        "\n",
        "# Gradiente descendente\n",
        "optimizer = torch.optim.SGD(model.parameters(), lr=learningRate)"
      ]
    },
    {
      "cell_type": "markdown",
      "metadata": {
        "id": "hlNgV_pgmvQx"
      },
      "source": [
        "### Visualização do grafo computacional da perda (loss)"
      ]
    },
    {
      "cell_type": "code",
      "execution_count": 10,
      "metadata": {
        "colab": {
          "base_uri": "https://localhost:8080/"
        },
        "id": "5ycGDyoWjMoR",
        "outputId": "e2231281-6023-4269-9413-f20948de198f",
        "collapsed": true
      },
      "outputs": [
        {
          "output_type": "stream",
          "name": "stdout",
          "text": [
            "Requirement already satisfied: graphviz in /usr/local/lib/python3.10/dist-packages (0.20.3)\n",
            "Collecting git+https://github.com/szagoruyko/pytorchviz\n",
            "  Cloning https://github.com/szagoruyko/pytorchviz to /tmp/pip-req-build-ug31ck7f\n",
            "  Running command git clone --filter=blob:none --quiet https://github.com/szagoruyko/pytorchviz /tmp/pip-req-build-ug31ck7f\n",
            "  Resolved https://github.com/szagoruyko/pytorchviz to commit 0adcd83af8aa7ab36d6afd139cabbd9df598edb7\n",
            "  Preparing metadata (setup.py) ... \u001b[?25l\u001b[?25hdone\n",
            "Requirement already satisfied: torch in /usr/local/lib/python3.10/dist-packages (from torchviz==0.0.2) (2.5.1+cu121)\n",
            "Requirement already satisfied: graphviz in /usr/local/lib/python3.10/dist-packages (from torchviz==0.0.2) (0.20.3)\n",
            "Requirement already satisfied: filelock in /usr/local/lib/python3.10/dist-packages (from torch->torchviz==0.0.2) (3.16.1)\n",
            "Requirement already satisfied: typing-extensions>=4.8.0 in /usr/local/lib/python3.10/dist-packages (from torch->torchviz==0.0.2) (4.12.2)\n",
            "Requirement already satisfied: networkx in /usr/local/lib/python3.10/dist-packages (from torch->torchviz==0.0.2) (3.4.2)\n",
            "Requirement already satisfied: jinja2 in /usr/local/lib/python3.10/dist-packages (from torch->torchviz==0.0.2) (3.1.4)\n",
            "Requirement already satisfied: fsspec in /usr/local/lib/python3.10/dist-packages (from torch->torchviz==0.0.2) (2024.10.0)\n",
            "Requirement already satisfied: sympy==1.13.1 in /usr/local/lib/python3.10/dist-packages (from torch->torchviz==0.0.2) (1.13.1)\n",
            "Requirement already satisfied: mpmath<1.4,>=1.1.0 in /usr/local/lib/python3.10/dist-packages (from sympy==1.13.1->torch->torchviz==0.0.2) (1.3.0)\n",
            "Requirement already satisfied: MarkupSafe>=2.0 in /usr/local/lib/python3.10/dist-packages (from jinja2->torch->torchviz==0.0.2) (3.0.2)\n",
            "Building wheels for collected packages: torchviz\n",
            "  Building wheel for torchviz (setup.py) ... \u001b[?25l\u001b[?25hdone\n",
            "  Created wheel for torchviz: filename=torchviz-0.0.2-py3-none-any.whl size=4972 sha256=a7824e53525e2b19be35848a68dea8ffd9ad2e03f45a154d5120642c37fdb309\n",
            "  Stored in directory: /tmp/pip-ephem-wheel-cache-6fm05fcc/wheels/44/5a/39/48c1209682afcfc7ad8ae7b3cf7aa0ff08a72e3ac4e5931f1d\n",
            "Successfully built torchviz\n",
            "Installing collected packages: torchviz\n",
            "Successfully installed torchviz-0.0.2\n"
          ]
        }
      ],
      "source": [
        "!pip install graphviz\n",
        "!pip install git+https://github.com/szagoruyko/pytorchviz"
      ]
    },
    {
      "cell_type": "code",
      "execution_count": 11,
      "metadata": {
        "ExecuteTime": {
          "end_time": "2017-11-24T16:28:18.101867",
          "start_time": "2017-11-24T16:28:18.062312"
        },
        "colab": {
          "base_uri": "https://localhost:8080/",
          "height": 543
        },
        "id": "oYPRIePImvQz",
        "outputId": "5f370ab3-2ff5-484b-fe3a-fd4dbfc075cb"
      },
      "outputs": [
        {
          "output_type": "execute_result",
          "data": {
            "image/svg+xml": "<?xml version=\"1.0\" encoding=\"UTF-8\" standalone=\"no\"?>\n<!DOCTYPE svg PUBLIC \"-//W3C//DTD SVG 1.1//EN\"\n \"http://www.w3.org/Graphics/SVG/1.1/DTD/svg11.dtd\">\n<!-- Generated by graphviz version 2.43.0 (0)\n -->\n<!-- Title: %3 Pages: 1 -->\n<svg width=\"216pt\" height=\"391pt\"\n viewBox=\"0.00 0.00 216.00 391.00\" xmlns=\"http://www.w3.org/2000/svg\" xmlns:xlink=\"http://www.w3.org/1999/xlink\">\n<g id=\"graph0\" class=\"graph\" transform=\"scale(1 1) rotate(0) translate(4 387)\">\n<title>%3</title>\n<polygon fill=\"white\" stroke=\"transparent\" points=\"-4,4 -4,-387 212,-387 212,4 -4,4\"/>\n<!-- 132662423694736 -->\n<g id=\"node1\" class=\"node\">\n<title>132662423694736</title>\n<polygon fill=\"#caff70\" stroke=\"black\" points=\"130.5,-31 76.5,-31 76.5,0 130.5,0 130.5,-31\"/>\n<text text-anchor=\"middle\" x=\"103.5\" y=\"-7\" font-family=\"monospace\" font-size=\"10.00\"> ()</text>\n</g>\n<!-- 132662440700816 -->\n<g id=\"node2\" class=\"node\">\n<title>132662440700816</title>\n<polygon fill=\"lightgrey\" stroke=\"black\" points=\"160,-86 47,-86 47,-67 160,-67 160,-86\"/>\n<text text-anchor=\"middle\" x=\"103.5\" y=\"-74\" font-family=\"monospace\" font-size=\"10.00\">NllLossBackward0</text>\n</g>\n<!-- 132662440700816&#45;&gt;132662423694736 -->\n<g id=\"edge8\" class=\"edge\">\n<title>132662440700816&#45;&gt;132662423694736</title>\n<path fill=\"none\" stroke=\"black\" d=\"M103.5,-66.79C103.5,-60.07 103.5,-50.4 103.5,-41.34\"/>\n<polygon fill=\"black\" stroke=\"black\" points=\"107,-41.19 103.5,-31.19 100,-41.19 107,-41.19\"/>\n</g>\n<!-- 132662440705712 -->\n<g id=\"node3\" class=\"node\">\n<title>132662440705712</title>\n<polygon fill=\"lightgrey\" stroke=\"black\" points=\"169,-141 38,-141 38,-122 169,-122 169,-141\"/>\n<text text-anchor=\"middle\" x=\"103.5\" y=\"-129\" font-family=\"monospace\" font-size=\"10.00\">LogSoftmaxBackward0</text>\n</g>\n<!-- 132662440705712&#45;&gt;132662440700816 -->\n<g id=\"edge1\" class=\"edge\">\n<title>132662440705712&#45;&gt;132662440700816</title>\n<path fill=\"none\" stroke=\"black\" d=\"M103.5,-121.75C103.5,-114.8 103.5,-104.85 103.5,-96.13\"/>\n<polygon fill=\"black\" stroke=\"black\" points=\"107,-96.09 103.5,-86.09 100,-96.09 107,-96.09\"/>\n</g>\n<!-- 132662440700528 -->\n<g id=\"node4\" class=\"node\">\n<title>132662440700528</title>\n<polygon fill=\"lightgrey\" stroke=\"black\" points=\"154,-196 53,-196 53,-177 154,-177 154,-196\"/>\n<text text-anchor=\"middle\" x=\"103.5\" y=\"-184\" font-family=\"monospace\" font-size=\"10.00\">AddmmBackward0</text>\n</g>\n<!-- 132662440700528&#45;&gt;132662440705712 -->\n<g id=\"edge2\" class=\"edge\">\n<title>132662440700528&#45;&gt;132662440705712</title>\n<path fill=\"none\" stroke=\"black\" d=\"M103.5,-176.75C103.5,-169.8 103.5,-159.85 103.5,-151.13\"/>\n<polygon fill=\"black\" stroke=\"black\" points=\"107,-151.09 103.5,-141.09 100,-151.09 107,-151.09\"/>\n</g>\n<!-- 132662440697072 -->\n<g id=\"node5\" class=\"node\">\n<title>132662440697072</title>\n<polygon fill=\"lightgrey\" stroke=\"black\" points=\"101,-251 0,-251 0,-232 101,-232 101,-251\"/>\n<text text-anchor=\"middle\" x=\"50.5\" y=\"-239\" font-family=\"monospace\" font-size=\"10.00\">AccumulateGrad</text>\n</g>\n<!-- 132662440697072&#45;&gt;132662440700528 -->\n<g id=\"edge3\" class=\"edge\">\n<title>132662440697072&#45;&gt;132662440700528</title>\n<path fill=\"none\" stroke=\"black\" d=\"M59.25,-231.75C66.97,-224.03 78.4,-212.6 87.72,-203.28\"/>\n<polygon fill=\"black\" stroke=\"black\" points=\"90.31,-205.64 94.91,-196.09 85.36,-200.69 90.31,-205.64\"/>\n</g>\n<!-- 132662417347488 -->\n<g id=\"node6\" class=\"node\">\n<title>132662417347488</title>\n<polygon fill=\"lightblue\" stroke=\"black\" points=\"77.5,-317 23.5,-317 23.5,-287 77.5,-287 77.5,-317\"/>\n<text text-anchor=\"middle\" x=\"50.5\" y=\"-305\" font-family=\"monospace\" font-size=\"10.00\">bias</text>\n<text text-anchor=\"middle\" x=\"50.5\" y=\"-294\" font-family=\"monospace\" font-size=\"10.00\"> (10)</text>\n</g>\n<!-- 132662417347488&#45;&gt;132662440697072 -->\n<g id=\"edge4\" class=\"edge\">\n<title>132662417347488&#45;&gt;132662440697072</title>\n<path fill=\"none\" stroke=\"black\" d=\"M50.5,-286.84C50.5,-279.21 50.5,-269.7 50.5,-261.45\"/>\n<polygon fill=\"black\" stroke=\"black\" points=\"54,-261.27 50.5,-251.27 47,-261.27 54,-261.27\"/>\n</g>\n<!-- 132662440696880 -->\n<g id=\"node7\" class=\"node\">\n<title>132662440696880</title>\n<polygon fill=\"lightgrey\" stroke=\"black\" points=\"196,-251 119,-251 119,-232 196,-232 196,-251\"/>\n<text text-anchor=\"middle\" x=\"157.5\" y=\"-239\" font-family=\"monospace\" font-size=\"10.00\">TBackward0</text>\n</g>\n<!-- 132662440696880&#45;&gt;132662440700528 -->\n<g id=\"edge5\" class=\"edge\">\n<title>132662440696880&#45;&gt;132662440700528</title>\n<path fill=\"none\" stroke=\"black\" d=\"M148.58,-231.75C140.72,-224.03 129.07,-212.6 119.58,-203.28\"/>\n<polygon fill=\"black\" stroke=\"black\" points=\"121.84,-200.6 112.25,-196.09 116.94,-205.59 121.84,-200.6\"/>\n</g>\n<!-- 132662440704608 -->\n<g id=\"node8\" class=\"node\">\n<title>132662440704608</title>\n<polygon fill=\"lightgrey\" stroke=\"black\" points=\"208,-311.5 107,-311.5 107,-292.5 208,-292.5 208,-311.5\"/>\n<text text-anchor=\"middle\" x=\"157.5\" y=\"-299.5\" font-family=\"monospace\" font-size=\"10.00\">AccumulateGrad</text>\n</g>\n<!-- 132662440704608&#45;&gt;132662440696880 -->\n<g id=\"edge6\" class=\"edge\">\n<title>132662440704608&#45;&gt;132662440696880</title>\n<path fill=\"none\" stroke=\"black\" d=\"M157.5,-292.37C157.5,-284.25 157.5,-271.81 157.5,-261.39\"/>\n<polygon fill=\"black\" stroke=\"black\" points=\"161,-261.17 157.5,-251.17 154,-261.17 161,-261.17\"/>\n</g>\n<!-- 132662417349088 -->\n<g id=\"node9\" class=\"node\">\n<title>132662417349088</title>\n<polygon fill=\"lightblue\" stroke=\"black\" points=\"196,-383 119,-383 119,-353 196,-353 196,-383\"/>\n<text text-anchor=\"middle\" x=\"157.5\" y=\"-371\" font-family=\"monospace\" font-size=\"10.00\">weight</text>\n<text text-anchor=\"middle\" x=\"157.5\" y=\"-360\" font-family=\"monospace\" font-size=\"10.00\"> (10, 784)</text>\n</g>\n<!-- 132662417349088&#45;&gt;132662440704608 -->\n<g id=\"edge7\" class=\"edge\">\n<title>132662417349088&#45;&gt;132662440704608</title>\n<path fill=\"none\" stroke=\"black\" d=\"M157.5,-352.8C157.5,-343.7 157.5,-331.79 157.5,-321.9\"/>\n<polygon fill=\"black\" stroke=\"black\" points=\"161,-321.84 157.5,-311.84 154,-321.84 161,-321.84\"/>\n</g>\n</g>\n</svg>\n",
            "text/plain": [
              "<graphviz.graphs.Digraph at 0x78a7e1a72920>"
            ]
          },
          "metadata": {},
          "execution_count": 11
        }
      ],
      "source": [
        "y_pred = model(Variable(x_train.view(-1,28*28)))\n",
        "loss = criterion(y_pred, Variable(y_train))\n",
        "from torchviz import make_dot, make_dot_from_trace\n",
        "p = make_dot(loss, dict(model.named_parameters()))\n",
        "p"
      ]
    },
    {
      "cell_type": "markdown",
      "metadata": {
        "id": "Pq2yq8qAmvQ2"
      },
      "source": [
        "### Laço de treinamento dos pesos"
      ]
    },
    {
      "cell_type": "code",
      "execution_count": 12,
      "metadata": {
        "ExecuteTime": {
          "end_time": "2017-11-24T15:44:51.678678",
          "start_time": "2017-11-24T15:44:51.427695"
        },
        "colab": {
          "base_uri": "https://localhost:8080/",
          "height": 34
        },
        "id": "HPUUNKXxmvQ3",
        "outputId": "dbc0f8e2-5a76-4d02-fff2-0ab7651a8962"
      },
      "outputs": [
        {
          "output_type": "display_data",
          "data": {
            "text/plain": [
              "<Figure size 1800x600 with 0 Axes>"
            ]
          },
          "metadata": {}
        }
      ],
      "source": [
        "from IPython import display\n",
        "import numpy\n",
        "a = 5\n",
        "losses = []\n",
        "zs = []\n",
        "fig = plt.figure(figsize=(18, 6))\n",
        "\n",
        "try:\n",
        "    for i in range(epochs):\n",
        "        # Transforma a entrada para uma dimensão\n",
        "        inputs = Variable(x_train.view(-1, 28 * 28))\n",
        "        # Predict da rede\n",
        "        outputs = model(inputs)\n",
        "        zs.append(outputs[1].detach().numpy())\n",
        "\n",
        "        # calcula a perda\n",
        "        loss = criterion(outputs, Variable(y_train))\n",
        "\n",
        "        # zero, backpropagation, ajusta parâmetros pelo gradiente descendente\n",
        "        optimizer.zero_grad()\n",
        "        loss.backward()\n",
        "        optimizer.step()\n",
        "\n",
        "        losses.append(loss.data)\n",
        "        _, predicts = torch.max(outputs, 1)\n",
        "\n",
        "        y_pred = predicts.data\n",
        "        accuracy = (y_pred.numpy() == y_train.numpy()).mean()\n",
        "\n",
        "except KeyboardInterrupt:\n",
        "    pass"
      ]
    },
    {
      "cell_type": "code",
      "execution_count": 13,
      "metadata": {
        "colab": {
          "base_uri": "https://localhost:8080/"
        },
        "id": "8wbN-_fnmvQ7",
        "outputId": "15baa10c-4d0b-48ff-f966-64325949058e"
      },
      "outputs": [
        {
          "output_type": "execute_result",
          "data": {
            "text/plain": [
              "tensor([[0., 0., 0.,  ..., 0., 0., 0.],\n",
              "        [0., 0., 0.,  ..., 0., 0., 0.],\n",
              "        [0., 0., 0.,  ..., 0., 0., 0.],\n",
              "        ...,\n",
              "        [0., 0., 0.,  ..., 0., 0., 0.],\n",
              "        [0., 0., 0.,  ..., 0., 0., 0.],\n",
              "        [0., 0., 0.,  ..., 0., 0., 0.]])"
            ]
          },
          "metadata": {},
          "execution_count": 13
        }
      ],
      "source": [
        "model.weight.grad"
      ]
    },
    {
      "cell_type": "code",
      "execution_count": 14,
      "metadata": {
        "ExecuteTime": {
          "end_time": "2017-11-24T15:44:51.685301",
          "start_time": "2017-11-24T15:44:51.680419"
        },
        "colab": {
          "base_uri": "https://localhost:8080/"
        },
        "id": "mPWKRc_gmvRH",
        "outputId": "c910d587-e787-49ce-e6b4-9210c7b148d6"
      },
      "outputs": [
        {
          "output_type": "stream",
          "name": "stdout",
          "text": [
            "Final loss: tensor(1.1019)\n"
          ]
        }
      ],
      "source": [
        "print('Final loss:', loss.data)"
      ]
    },
    {
      "cell_type": "markdown",
      "metadata": {
        "id": "PWIjRdCJmvRQ"
      },
      "source": [
        "### Visualizando gráfico de perda durante o treinamento"
      ]
    },
    {
      "cell_type": "code",
      "execution_count": 15,
      "metadata": {
        "ExecuteTime": {
          "end_time": "2017-11-24T15:44:56.787741",
          "start_time": "2017-11-24T15:44:56.627754"
        },
        "id": "gwV8aFcbmvRR",
        "outputId": "8d8a4c48-3444-4738-d75c-c70412dda84e",
        "colab": {
          "base_uri": "https://localhost:8080/",
          "height": 447
        }
      },
      "outputs": [
        {
          "output_type": "execute_result",
          "data": {
            "text/plain": [
              "[<matplotlib.lines.Line2D at 0x78a7e0c4a230>]"
            ]
          },
          "metadata": {},
          "execution_count": 15
        },
        {
          "output_type": "display_data",
          "data": {
            "text/plain": [
              "<Figure size 640x480 with 1 Axes>"
            ],
            "image/png": "[encoded data removed]"
          },
          "metadata": {}
        }
      ],
      "source": [
        "plt.plot(losses)"
      ]
    },
    {
      "cell_type": "markdown",
      "metadata": {
        "id": "H8og76PRmvRW"
      },
      "source": [
        "## Avaliação"
      ]
    },
    {
      "cell_type": "markdown",
      "metadata": {
        "id": "tIe0ngxWmvRY"
      },
      "source": [
        "### Acurácia tanto no conjunto de treinamento como no conjunto de testes"
      ]
    },
    {
      "cell_type": "code",
      "execution_count": 16,
      "metadata": {
        "ExecuteTime": {
          "end_time": "2017-11-24T15:50:29.922115",
          "start_time": "2017-11-24T15:50:29.914004"
        },
        "id": "tlL-lfF5mvRZ",
        "outputId": "809d64c0-a0e5-4210-da13-441b47ea7482",
        "colab": {
          "base_uri": "https://localhost:8080/"
        }
      },
      "outputs": [
        {
          "output_type": "stream",
          "name": "stdout",
          "text": [
            "Accuracy: 0.818\n"
          ]
        }
      ],
      "source": [
        "def predict(model, input_data):\n",
        "    outputs = model(Variable(input_data))\n",
        "    _, predicts = torch.max(outputs, 1)\n",
        "\n",
        "    return predicts.data\n",
        "\n",
        "y_pred = predict(model, x_train.view(-1, 28*28))\n",
        "accuracy = (y_pred.numpy() == y_train.numpy()).mean()\n",
        "print('Accuracy:', accuracy)"
      ]
    },
    {
      "cell_type": "markdown",
      "metadata": {
        "id": "CvWz9qeDmvRc"
      },
      "source": [
        "### Matriz de confusão com dados de treinamento e teste"
      ]
    },
    {
      "cell_type": "code",
      "execution_count": 17,
      "metadata": {
        "ExecuteTime": {
          "end_time": "2017-11-24T15:51:40.706177",
          "start_time": "2017-11-24T15:51:40.679474"
        },
        "id": "CqNe40IqmvRd",
        "outputId": "3f058b46-4e7c-4c08-88ed-c389b4d55b47",
        "colab": {
          "base_uri": "https://localhost:8080/",
          "height": 411
        }
      },
      "outputs": [
        {
          "output_type": "stream",
          "name": "stdout",
          "text": [
            "Matriz de confusão:\n"
          ]
        },
        {
          "output_type": "execute_result",
          "data": {
            "text/plain": [
              "col_0   0    1   2   3   4   5   6    7   8   9\n",
              "row_0                                          \n",
              "0      94    0   4   2   0   8   2    2   0   3\n",
              "1       0  109  12   0   1   2   2    5   7   2\n",
              "2       1    0  72   1   1   4   0    1   3   0\n",
              "3       0    0   0  80   0  16   0    0  10   2\n",
              "4       0    0   2   0  91   6   4    3   1   6\n",
              "5       0    2   0   2   0  46   0    0   1   2\n",
              "6       2    1   2   2   4   4  86    0   1   1\n",
              "7       0    1   5   3   1   1   0  102   0   8\n",
              "8       0    3   2   2   0   2   0    0  62   0\n",
              "9       0    0   0   1   7   3   0    4   2  76"
            ],
            "text/html": [
              "\n",
              "  <div id=\"df-c7a4bb59-cf3f-488d-8c63-7c4a83c07380\" class=\"colab-df-container\">\n",
              "    <div>\n",
              "<style scoped>\n",
              "    .dataframe tbody tr th:only-of-type {\n",
              "        vertical-align: middle;\n",
              "    }\n",
              "\n",
              "    .dataframe tbody tr th {\n",
              "        vertical-align: top;\n",
              "    }\n",
              "\n",
              "    .dataframe thead th {\n",
              "        text-align: right;\n",
              "    }\n",
              "</style>\n",
              "<table border=\"1\" class=\"dataframe\">\n",
              "  <thead>\n",
              "    <tr style=\"text-align: right;\">\n",
              "      <th>col_0</th>\n",
              "      <th>0</th>\n",
              "      <th>1</th>\n",
              "      <th>2</th>\n",
              "      <th>3</th>\n",
              "      <th>4</th>\n",
              "      <th>5</th>\n",
              "      <th>6</th>\n",
              "      <th>7</th>\n",
              "      <th>8</th>\n",
              "      <th>9</th>\n",
              "    </tr>\n",
              "    <tr>\n",
              "      <th>row_0</th>\n",
              "      <th></th>\n",
              "      <th></th>\n",
              "      <th></th>\n",
              "      <th></th>\n",
              "      <th></th>\n",
              "      <th></th>\n",
              "      <th></th>\n",
              "      <th></th>\n",
              "      <th></th>\n",
              "      <th></th>\n",
              "    </tr>\n",
              "  </thead>\n",
              "  <tbody>\n",
              "    <tr>\n",
              "      <th>0</th>\n",
              "      <td>94</td>\n",
              "      <td>0</td>\n",
              "      <td>4</td>\n",
              "      <td>2</td>\n",
              "      <td>0</td>\n",
              "      <td>8</td>\n",
              "      <td>2</td>\n",
              "      <td>2</td>\n",
              "      <td>0</td>\n",
              "      <td>3</td>\n",
              "    </tr>\n",
              "    <tr>\n",
              "      <th>1</th>\n",
              "      <td>0</td>\n",
              "      <td>109</td>\n",
              "      <td>12</td>\n",
              "      <td>0</td>\n",
              "      <td>1</td>\n",
              "      <td>2</td>\n",
              "      <td>2</td>\n",
              "      <td>5</td>\n",
              "      <td>7</td>\n",
              "      <td>2</td>\n",
              "    </tr>\n",
              "    <tr>\n",
              "      <th>2</th>\n",
              "      <td>1</td>\n",
              "      <td>0</td>\n",
              "      <td>72</td>\n",
              "      <td>1</td>\n",
              "      <td>1</td>\n",
              "      <td>4</td>\n",
              "      <td>0</td>\n",
              "      <td>1</td>\n",
              "      <td>3</td>\n",
              "      <td>0</td>\n",
              "    </tr>\n",
              "    <tr>\n",
              "      <th>3</th>\n",
              "      <td>0</td>\n",
              "      <td>0</td>\n",
              "      <td>0</td>\n",
              "      <td>80</td>\n",
              "      <td>0</td>\n",
              "      <td>16</td>\n",
              "      <td>0</td>\n",
              "      <td>0</td>\n",
              "      <td>10</td>\n",
              "      <td>2</td>\n",
              "    </tr>\n",
              "    <tr>\n",
              "      <th>4</th>\n",
              "      <td>0</td>\n",
              "      <td>0</td>\n",
              "      <td>2</td>\n",
              "      <td>0</td>\n",
              "      <td>91</td>\n",
              "      <td>6</td>\n",
              "      <td>4</td>\n",
              "      <td>3</td>\n",
              "      <td>1</td>\n",
              "      <td>6</td>\n",
              "    </tr>\n",
              "    <tr>\n",
              "      <th>5</th>\n",
              "      <td>0</td>\n",
              "      <td>2</td>\n",
              "      <td>0</td>\n",
              "      <td>2</td>\n",
              "      <td>0</td>\n",
              "      <td>46</td>\n",
              "      <td>0</td>\n",
              "      <td>0</td>\n",
              "      <td>1</td>\n",
              "      <td>2</td>\n",
              "    </tr>\n",
              "    <tr>\n",
              "      <th>6</th>\n",
              "      <td>2</td>\n",
              "      <td>1</td>\n",
              "      <td>2</td>\n",
              "      <td>2</td>\n",
              "      <td>4</td>\n",
              "      <td>4</td>\n",
              "      <td>86</td>\n",
              "      <td>0</td>\n",
              "      <td>1</td>\n",
              "      <td>1</td>\n",
              "    </tr>\n",
              "    <tr>\n",
              "      <th>7</th>\n",
              "      <td>0</td>\n",
              "      <td>1</td>\n",
              "      <td>5</td>\n",
              "      <td>3</td>\n",
              "      <td>1</td>\n",
              "      <td>1</td>\n",
              "      <td>0</td>\n",
              "      <td>102</td>\n",
              "      <td>0</td>\n",
              "      <td>8</td>\n",
              "    </tr>\n",
              "    <tr>\n",
              "      <th>8</th>\n",
              "      <td>0</td>\n",
              "      <td>3</td>\n",
              "      <td>2</td>\n",
              "      <td>2</td>\n",
              "      <td>0</td>\n",
              "      <td>2</td>\n",
              "      <td>0</td>\n",
              "      <td>0</td>\n",
              "      <td>62</td>\n",
              "      <td>0</td>\n",
              "    </tr>\n",
              "    <tr>\n",
              "      <th>9</th>\n",
              "      <td>0</td>\n",
              "      <td>0</td>\n",
              "      <td>0</td>\n",
              "      <td>1</td>\n",
              "      <td>7</td>\n",
              "      <td>3</td>\n",
              "      <td>0</td>\n",
              "      <td>4</td>\n",
              "      <td>2</td>\n",
              "      <td>76</td>\n",
              "    </tr>\n",
              "  </tbody>\n",
              "</table>\n",
              "</div>\n",
              "    <div class=\"colab-df-buttons\">\n",
              "\n",
              "  <div class=\"colab-df-container\">\n",
              "    <button class=\"colab-df-convert\" onclick=\"convertToInteractive('df-c7a4bb59-cf3f-488d-8c63-7c4a83c07380')\"\n",
              "            title=\"Convert this dataframe to an interactive table.\"\n",
              "            style=\"display:none;\">\n",
              "\n",
              "  <svg xmlns=\"http://www.w3.org/2000/svg\" height=\"24px\" viewBox=\"0 -960 960 960\">\n",
              "    <path d=\"M120-120v-720h720v720H120Zm60-500h600v-160H180v160Zm220 220h160v-160H400v160Zm0 220h160v-160H400v160ZM180-400h160v-160H180v160Zm440 0h160v-160H620v160ZM180-180h160v-160H180v160Zm440 0h160v-160H620v160Z\"/>\n",
              "  </svg>\n",
              "    </button>\n",
              "\n",
              "  <style>\n",
              "    .colab-df-container {\n",
              "      display:flex;\n",
              "      gap: 12px;\n",
              "    }\n",
              "\n",
              "    .colab-df-convert {\n",
              "      background-color: #E8F0FE;\n",
              "      border: none;\n",
              "      border-radius: 50%;\n",
              "      cursor: pointer;\n",
              "      display: none;\n",
              "      fill: #1967D2;\n",
              "      height: 32px;\n",
              "      padding: 0 0 0 0;\n",
              "      width: 32px;\n",
              "    }\n",
              "\n",
              "    .colab-df-convert:hover {\n",
              "      background-color: #E2EBFA;\n",
              "      box-shadow: 0px 1px 2px rgba(60, 64, 67, 0.3), 0px 1px 3px 1px rgba(60, 64, 67, 0.15);\n",
              "      fill: #174EA6;\n",
              "    }\n",
              "\n",
              "    .colab-df-buttons div {\n",
              "      margin-bottom: 4px;\n",
              "    }\n",
              "\n",
              "    [theme=dark] .colab-df-convert {\n",
              "      background-color: #3B4455;\n",
              "      fill: #D2E3FC;\n",
              "    }\n",
              "\n",
              "    [theme=dark] .colab-df-convert:hover {\n",
              "      background-color: #434B5C;\n",
              "      box-shadow: 0px 1px 3px 1px rgba(0, 0, 0, 0.15);\n",
              "      filter: drop-shadow(0px 1px 2px rgba(0, 0, 0, 0.3));\n",
              "      fill: #FFFFFF;\n",
              "    }\n",
              "  </style>\n",
              "\n",
              "    <script>\n",
              "      const buttonEl =\n",
              "        document.querySelector('#df-c7a4bb59-cf3f-488d-8c63-7c4a83c07380 button.colab-df-convert');\n",
              "      buttonEl.style.display =\n",
              "        google.colab.kernel.accessAllowed ? 'block' : 'none';\n",
              "\n",
              "      async function convertToInteractive(key) {\n",
              "        const element = document.querySelector('#df-c7a4bb59-cf3f-488d-8c63-7c4a83c07380');\n",
              "        const dataTable =\n",
              "          await google.colab.kernel.invokeFunction('convertToInteractive',\n",
              "                                                    [key], {});\n",
              "        if (!dataTable) return;\n",
              "\n",
              "        const docLinkHtml = 'Like what you see? Visit the ' +\n",
              "          '<a target=\"_blank\" href=https://colab.research.google.com/notebooks/data_table.ipynb>data table notebook</a>'\n",
              "          + ' to learn more about interactive tables.';\n",
              "        element.innerHTML = '';\n",
              "        dataTable['output_type'] = 'display_data';\n",
              "        await google.colab.output.renderOutput(dataTable, element);\n",
              "        const docLink = document.createElement('div');\n",
              "        docLink.innerHTML = docLinkHtml;\n",
              "        element.appendChild(docLink);\n",
              "      }\n",
              "    </script>\n",
              "  </div>\n",
              "\n",
              "\n",
              "<div id=\"df-9a9a3655-ef97-48b9-8e54-3bdcc3b5354f\">\n",
              "  <button class=\"colab-df-quickchart\" onclick=\"quickchart('df-9a9a3655-ef97-48b9-8e54-3bdcc3b5354f')\"\n",
              "            title=\"Suggest charts\"\n",
              "            style=\"display:none;\">\n",
              "\n",
              "<svg xmlns=\"http://www.w3.org/2000/svg\" height=\"24px\"viewBox=\"0 0 24 24\"\n",
              "     width=\"24px\">\n",
              "    <g>\n",
              "        <path d=\"M19 3H5c-1.1 0-2 .9-2 2v14c0 1.1.9 2 2 2h14c1.1 0 2-.9 2-2V5c0-1.1-.9-2-2-2zM9 17H7v-7h2v7zm4 0h-2V7h2v10zm4 0h-2v-4h2v4z\"/>\n",
              "    </g>\n",
              "</svg>\n",
              "  </button>\n",
              "\n",
              "<style>\n",
              "  .colab-df-quickchart {\n",
              "      --bg-color: #E8F0FE;\n",
              "      --fill-color: #1967D2;\n",
              "      --hover-bg-color: #E2EBFA;\n",
              "      --hover-fill-color: #174EA6;\n",
              "      --disabled-fill-color: #AAA;\n",
              "      --disabled-bg-color: #DDD;\n",
              "  }\n",
              "\n",
              "  [theme=dark] .colab-df-quickchart {\n",
              "      --bg-color: #3B4455;\n",
              "      --fill-color: #D2E3FC;\n",
              "      --hover-bg-color: #434B5C;\n",
              "      --hover-fill-color: #FFFFFF;\n",
              "      --disabled-bg-color: #3B4455;\n",
              "      --disabled-fill-color: #666;\n",
              "  }\n",
              "\n",
              "  .colab-df-quickchart {\n",
              "    background-color: var(--bg-color);\n",
              "    border: none;\n",
              "    border-radius: 50%;\n",
              "    cursor: pointer;\n",
              "    display: none;\n",
              "    fill: var(--fill-color);\n",
              "    height: 32px;\n",
              "    padding: 0;\n",
              "    width: 32px;\n",
              "  }\n",
              "\n",
              "  .colab-df-quickchart:hover {\n",
              "    background-color: var(--hover-bg-color);\n",
              "    box-shadow: 0 1px 2px rgba(60, 64, 67, 0.3), 0 1px 3px 1px rgba(60, 64, 67, 0.15);\n",
              "    fill: var(--button-hover-fill-color);\n",
              "  }\n",
              "\n",
              "  .colab-df-quickchart-complete:disabled,\n",
              "  .colab-df-quickchart-complete:disabled:hover {\n",
              "    background-color: var(--disabled-bg-color);\n",
              "    fill: var(--disabled-fill-color);\n",
              "    box-shadow: none;\n",
              "  }\n",
              "\n",
              "  .colab-df-spinner {\n",
              "    border: 2px solid var(--fill-color);\n",
              "    border-color: transparent;\n",
              "    border-bottom-color: var(--fill-color);\n",
              "    animation:\n",
              "      spin 1s steps(1) infinite;\n",
              "  }\n",
              "\n",
              "  @keyframes spin {\n",
              "    0% {\n",
              "      border-color: transparent;\n",
              "      border-bottom-color: var(--fill-color);\n",
              "      border-left-color: var(--fill-color);\n",
              "    }\n",
              "    20% {\n",
              "      border-color: transparent;\n",
              "      border-left-color: var(--fill-color);\n",
              "      border-top-color: var(--fill-color);\n",
              "    }\n",
              "    30% {\n",
              "      border-color: transparent;\n",
              "      border-left-color: var(--fill-color);\n",
              "      border-top-color: var(--fill-color);\n",
              "      border-right-color: var(--fill-color);\n",
              "    }\n",
              "    40% {\n",
              "      border-color: transparent;\n",
              "      border-right-color: var(--fill-color);\n",
              "      border-top-color: var(--fill-color);\n",
              "    }\n",
              "    60% {\n",
              "      border-color: transparent;\n",
              "      border-right-color: var(--fill-color);\n",
              "    }\n",
              "    80% {\n",
              "      border-color: transparent;\n",
              "      border-right-color: var(--fill-color);\n",
              "      border-bottom-color: var(--fill-color);\n",
              "    }\n",
              "    90% {\n",
              "      border-color: transparent;\n",
              "      border-bottom-color: var(--fill-color);\n",
              "    }\n",
              "  }\n",
              "</style>\n",
              "\n",
              "  <script>\n",
              "    async function quickchart(key) {\n",
              "      const quickchartButtonEl =\n",
              "        document.querySelector('#' + key + ' button');\n",
              "      quickchartButtonEl.disabled = true;  // To prevent multiple clicks.\n",
              "      quickchartButtonEl.classList.add('colab-df-spinner');\n",
              "      try {\n",
              "        const charts = await google.colab.kernel.invokeFunction(\n",
              "            'suggestCharts', [key], {});\n",
              "      } catch (error) {\n",
              "        console.error('Error during call to suggestCharts:', error);\n",
              "      }\n",
              "      quickchartButtonEl.classList.remove('colab-df-spinner');\n",
              "      quickchartButtonEl.classList.add('colab-df-quickchart-complete');\n",
              "    }\n",
              "    (() => {\n",
              "      let quickchartButtonEl =\n",
              "        document.querySelector('#df-9a9a3655-ef97-48b9-8e54-3bdcc3b5354f button');\n",
              "      quickchartButtonEl.style.display =\n",
              "        google.colab.kernel.accessAllowed ? 'block' : 'none';\n",
              "    })();\n",
              "  </script>\n",
              "</div>\n",
              "\n",
              "    </div>\n",
              "  </div>\n"
            ],
            "application/vnd.google.colaboratory.intrinsic+json": {
              "type": "dataframe",
              "summary": "{\n  \"name\": \"pd\",\n  \"rows\": 10,\n  \"fields\": [\n    {\n      \"column\": \"row_0\",\n      \"properties\": {\n        \"dtype\": \"number\",\n        \"std\": 3,\n        \"min\": 0,\n        \"max\": 9,\n        \"num_unique_values\": 10,\n        \"samples\": [\n          8,\n          1,\n          5\n        ],\n        \"semantic_type\": \"\",\n        \"description\": \"\"\n      }\n    },\n    {\n      \"column\": 0,\n      \"properties\": {\n        \"dtype\": \"number\",\n        \"std\": 29,\n        \"min\": 0,\n        \"max\": 94,\n        \"num_unique_values\": 4,\n        \"samples\": [\n          0,\n          2,\n          94\n        ],\n        \"semantic_type\": \"\",\n        \"description\": \"\"\n      }\n    },\n    {\n      \"column\": 1,\n      \"properties\": {\n        \"dtype\": \"number\",\n        \"std\": 34,\n        \"min\": 0,\n        \"max\": 109,\n        \"num_unique_values\": 5,\n        \"samples\": [\n          109,\n          3,\n          2\n        ],\n        \"semantic_type\": \"\",\n        \"description\": \"\"\n      }\n    },\n    {\n      \"column\": 2,\n      \"properties\": {\n        \"dtype\": \"number\",\n        \"std\": 22,\n        \"min\": 0,\n        \"max\": 72,\n        \"num_unique_values\": 6,\n        \"samples\": [\n          4,\n          12,\n          5\n        ],\n        \"semantic_type\": \"\",\n        \"description\": \"\"\n      }\n    },\n    {\n      \"column\": 3,\n      \"properties\": {\n        \"dtype\": \"number\",\n        \"std\": 24,\n        \"min\": 0,\n        \"max\": 80,\n        \"num_unique_values\": 5,\n        \"samples\": [\n          0,\n          3,\n          1\n        ],\n        \"semantic_type\": \"\",\n        \"description\": \"\"\n      }\n    },\n    {\n      \"column\": 4,\n      \"properties\": {\n        \"dtype\": \"number\",\n        \"std\": 28,\n        \"min\": 0,\n        \"max\": 91,\n        \"num_unique_values\": 5,\n        \"samples\": [\n          1,\n          7,\n          91\n        ],\n        \"semantic_type\": \"\",\n        \"description\": \"\"\n      }\n    },\n    {\n      \"column\": 5,\n      \"properties\": {\n        \"dtype\": \"number\",\n        \"std\": 13,\n        \"min\": 1,\n        \"max\": 46,\n        \"num_unique_values\": 8,\n        \"samples\": [\n          2,\n          46,\n          8\n        ],\n        \"semantic_type\": \"\",\n        \"description\": \"\"\n      }\n    },\n    {\n      \"column\": 6,\n      \"properties\": {\n        \"dtype\": \"number\",\n        \"std\": 26,\n        \"min\": 0,\n        \"max\": 86,\n        \"num_unique_values\": 4,\n        \"samples\": [\n          0,\n          86,\n          2\n        ],\n        \"semantic_type\": \"\",\n        \"description\": \"\"\n      }\n    },\n    {\n      \"column\": 7,\n      \"properties\": {\n        \"dtype\": \"number\",\n        \"std\": 31,\n        \"min\": 0,\n        \"max\": 102,\n        \"num_unique_values\": 7,\n        \"samples\": [\n          2,\n          5,\n          102\n        ],\n        \"semantic_type\": \"\",\n        \"description\": \"\"\n      }\n    },\n    {\n      \"column\": 8,\n      \"properties\": {\n        \"dtype\": \"number\",\n        \"std\": 19,\n        \"min\": 0,\n        \"max\": 62,\n        \"num_unique_values\": 7,\n        \"samples\": [\n          0,\n          7,\n          62\n        ],\n        \"semantic_type\": \"\",\n        \"description\": \"\"\n      }\n    },\n    {\n      \"column\": 9,\n      \"properties\": {\n        \"dtype\": \"number\",\n        \"std\": 23,\n        \"min\": 0,\n        \"max\": 76,\n        \"num_unique_values\": 7,\n        \"samples\": [\n          3,\n          2,\n          8\n        ],\n        \"semantic_type\": \"\",\n        \"description\": \"\"\n      }\n    }\n  ]\n}"
            }
          },
          "metadata": {},
          "execution_count": 17
        }
      ],
      "source": [
        "print('Matriz de confusão:')\n",
        "pd.crosstab(y_pred.numpy(), y_train.numpy())"
      ]
    },
    {
      "cell_type": "markdown",
      "metadata": {
        "id": "RLjDGqb7mvRi"
      },
      "source": [
        "## Visualizando a matriz de pesos treinados"
      ]
    },
    {
      "cell_type": "markdown",
      "metadata": {
        "id": "AYuIu31KmvRj"
      },
      "source": [
        "Observe que a matriz de peso treinado para cada classe mostra a importância dos pesos associados aos caracteres de cada classe."
      ]
    },
    {
      "cell_type": "code",
      "execution_count": 18,
      "metadata": {
        "ExecuteTime": {
          "end_time": "2017-11-24T16:34:49.367135",
          "start_time": "2017-11-24T16:34:49.204452"
        },
        "id": "_QESuAB8mvRk",
        "outputId": "c8b54122-3ac0-4418-9a46-d520b06904aa",
        "colab": {
          "base_uri": "https://localhost:8080/",
          "height": 465
        }
      },
      "outputs": [
        {
          "output_type": "stream",
          "name": "stdout",
          "text": [
            "weights: torch.Size([10, 784])\n",
            "bias:    torch.Size([10])\n"
          ]
        },
        {
          "output_type": "display_data",
          "data": {
            "text/plain": [
              "<Figure size 640x480 with 1 Axes>"
            ],
            "image/png": "[encoded data removed]"
          },
          "metadata": {}
        }
      ],
      "source": [
        "weights = model.state_dict()['weight']\n",
        "print('weights:', weights.shape)\n",
        "\n",
        "bias = model.state_dict()['bias']\n",
        "print('bias:   ', bias.shape)\n",
        "\n",
        "# Visualizando pesos da classe 3\n",
        "plt.imshow(weights[3, :].numpy().reshape((28,28)),cmap = 'gray')\n",
        "plt.show()"
      ]
    },
    {
      "cell_type": "markdown",
      "metadata": {
        "id": "eE1B62KamvRp"
      },
      "source": [
        "### Visualizando os pesos de todas as classes"
      ]
    },
    {
      "cell_type": "code",
      "execution_count": 19,
      "metadata": {
        "ExecuteTime": {
          "end_time": "2017-11-24T16:34:50.240218",
          "start_time": "2017-11-24T16:34:50.025515"
        },
        "id": "EHm39Pe_mvRp",
        "outputId": "501f8cd7-1565-4f67-9191-974c4ccca2b4",
        "colab": {
          "base_uri": "https://localhost:8080/",
          "height": 156
        }
      },
      "outputs": [
        {
          "output_type": "display_data",
          "data": {
            "text/plain": [
              "<Figure size 1500x1000 with 1 Axes>"
            ],
            "image/png": "[encoded data removed]"
          },
          "metadata": {}
        }
      ],
      "source": [
        "# cria um grid com as imagens\n",
        "grid = torchvision.utils.make_grid(weights.view(-1, 1, 28, 28), normalize=True, pad_value=1.0, padding=1, nrow=10)\n",
        "\n",
        "plt.figure(figsize=(15, 10))\n",
        "plt.imshow(grid.numpy().transpose(1, 2, 0))\n",
        "plt.axis('off');"
      ]
    },
    {
      "cell_type": "markdown",
      "metadata": {
        "id": "odqHBFclmvRt"
      },
      "source": [
        "### Diagrama da regressão softmax com visualização dos pesos W"
      ]
    },
    {
      "cell_type": "markdown",
      "metadata": {
        "id": "UVKoDiM-mvRu"
      },
      "source": [
        "![alt text](https://raw.githubusercontent.com/vcasadei/images/master/RegressaoSoftmaxArgmaxNMIST.png)"
      ]
    },
    {
      "cell_type": "markdown",
      "metadata": {
        "id": "y0vTJyVbmvRv"
      },
      "source": [
        "# Atividades"
      ]
    },
    {
      "cell_type": "markdown",
      "metadata": {
        "id": "Rl-7WEDMmvRw"
      },
      "source": [
        "## Exercícios"
      ]
    },
    {
      "cell_type": "markdown",
      "metadata": {
        "id": "Vn4GzfSYmvR5"
      },
      "source": [
        "- 1) Insira código no laço do treinamento para que no final de cada época,\n",
        "     seja impresso: o número da época e a perda e a acurácia"
      ]
    },
    {
      "cell_type": "code",
      "source": [
        "from torch.utils.data import DataLoader, TensorDataset\n",
        "batch_size = 100\n",
        "n_epochs = 5\n",
        "learningRate = 0.5\n",
        "criterion = torch.nn.CrossEntropyLoss()\n",
        "optimizer = torch.optim.SGD(model.parameters(), lr=learningRate)\n",
        "\n",
        "dataset_train = TensorDataset(x_train, y_train)\n",
        "\n",
        "loader_train = DataLoader(dataset_train, batch_size=batch_size, shuffle=True)\n",
        "\n",
        "for epoch in range(n_epochs):\n",
        "    total_loss = 0\n",
        "    correct = 0\n",
        "    total = 0\n",
        "\n",
        "    for x_train_batch, y_train_batch in loader_train:\n",
        "\n",
        "        inputs = Variable(x_train_batch.view(-1, 28 * 28))\n",
        "        targets = Variable(y_train_batch)\n",
        "\n",
        "\n",
        "        outputs = model(inputs)\n",
        "\n",
        "\n",
        "        loss = criterion(outputs, targets)\n",
        "        total_loss += loss.item()\n",
        "\n",
        "\n",
        "        optimizer.zero_grad()\n",
        "        loss.backward()\n",
        "        optimizer.step()\n",
        "\n",
        "\n",
        "        _, predicts = torch.max(outputs, 1)\n",
        "        correct += (predicts == y_train_batch).sum().item()\n",
        "        total += y_train_batch.size(0)\n",
        "\n",
        "    accuracy = correct / total\n",
        "    print(f\"Época [{epoch + 1}/{n_epochs}], Perda: {total_loss:.4f}, Acurácia: {accuracy:.4f}\")\n"
      ],
      "metadata": {
        "id": "XkOMyNi9lrtr",
        "outputId": "a0fca32e-7fc9-48ec-a0ea-c5354f7ff569",
        "colab": {
          "base_uri": "https://localhost:8080/"
        }
      },
      "execution_count": 20,
      "outputs": [
        {
          "output_type": "stream",
          "name": "stdout",
          "text": [
            "Época [1/5], Perda: 8.2050, Acurácia: 0.8100\n",
            "Época [2/5], Perda: 5.7761, Acurácia: 0.8600\n",
            "Época [3/5], Perda: 4.8431, Acurácia: 0.8810\n",
            "Época [4/5], Perda: 4.2804, Acurácia: 0.8970\n",
            "Época [5/5], Perda: 3.9042, Acurácia: 0.9030\n"
          ]
        }
      ]
    },
    {
      "cell_type": "markdown",
      "metadata": {
        "id": "RtZPs6M6mvR6"
      },
      "source": [
        "- 2) Insira código no laço do treinamento para visualização dos valores dos gradientes referentes à classe do dígito 4, no final de cada época."
      ]
    },
    {
      "cell_type": "code",
      "source": [
        "for epoch in range(n_epochs):\n",
        "    total_loss = 0\n",
        "    correct = 0\n",
        "    total = 0\n",
        "\n",
        "    for x_train_batch, y_train_batch in loader_train:\n",
        "        inputs = Variable(x_train_batch.view(-1, 28 * 28))\n",
        "        targets = Variable(y_train_batch)\n",
        "\n",
        "        outputs = model(inputs)\n",
        "\n",
        "        loss = criterion(outputs, targets)\n",
        "        total_loss += loss.item()\n",
        "\n",
        "        optimizer.zero_grad()\n",
        "        loss.backward()\n",
        "\n",
        "        grad_class_4 = model.weight.grad[4].detach().numpy()\n",
        "\n",
        "        optimizer.step()\n",
        "\n",
        "        _, predicts = torch.max(outputs, 1)\n",
        "        correct += (predicts == y_train_batch).sum().item()\n",
        "        total += y_train_batch.size(0)\n",
        "\n",
        "    accuracy = correct / total\n",
        "    print(f\"Época [{epoch + 1}/{n_epochs}], Perda: {total_loss:.4f}, Acurácia: {accuracy:.4f}\")\n",
        "\n",
        "    print(f\"Gradientes da classe 4 na época {epoch + 1}:\\n\", grad_class_4)\n"
      ],
      "metadata": {
        "id": "YytPpKWpl0kr",
        "outputId": "3be3ebc1-8a80-4f48-e0dd-7cd41969a734",
        "colab": {
          "base_uri": "https://localhost:8080/"
        }
      },
      "execution_count": 21,
      "outputs": [
        {
          "output_type": "stream",
          "name": "stdout",
          "text": [
            "Época [1/5], Perda: 3.5329, Acurácia: 0.9130\n",
            "Gradientes da classe 4 na época 1:\n",
            " [ 0.00000000e+00  0.00000000e+00  0.00000000e+00  0.00000000e+00\n",
            "  0.00000000e+00  0.00000000e+00  0.00000000e+00  0.00000000e+00\n",
            "  0.00000000e+00  0.00000000e+00  0.00000000e+00  0.00000000e+00\n",
            "  0.00000000e+00  0.00000000e+00  0.00000000e+00  0.00000000e+00\n",
            "  0.00000000e+00  0.00000000e+00  0.00000000e+00  0.00000000e+00\n",
            "  0.00000000e+00  0.00000000e+00  0.00000000e+00  0.00000000e+00\n",
            "  0.00000000e+00  0.00000000e+00  0.00000000e+00  0.00000000e+00\n",
            "  0.00000000e+00  0.00000000e+00  0.00000000e+00  0.00000000e+00\n",
            "  0.00000000e+00  0.00000000e+00  0.00000000e+00  0.00000000e+00\n",
            "  0.00000000e+00  0.00000000e+00  0.00000000e+00  0.00000000e+00\n",
            "  0.00000000e+00  0.00000000e+00  5.47291129e-04  9.53198702e-04\n",
            "  0.00000000e+00  0.00000000e+00  0.00000000e+00  0.00000000e+00\n",
            "  0.00000000e+00  0.00000000e+00  0.00000000e+00  0.00000000e+00\n",
            "  0.00000000e+00  0.00000000e+00  0.00000000e+00  0.00000000e+00\n",
            "  0.00000000e+00  0.00000000e+00  0.00000000e+00  0.00000000e+00\n",
            "  0.00000000e+00  0.00000000e+00  0.00000000e+00  0.00000000e+00\n",
            "  0.00000000e+00  0.00000000e+00  0.00000000e+00  0.00000000e+00\n",
            "  0.00000000e+00  4.29918844e-04  2.36600125e-03  5.65831258e-04\n",
            "  1.66710801e-04  1.28684667e-04  1.12073110e-04  9.96589588e-05\n",
            "  9.01807380e-06  0.00000000e+00  0.00000000e+00  0.00000000e+00\n",
            "  0.00000000e+00  0.00000000e+00  0.00000000e+00  0.00000000e+00\n",
            "  0.00000000e+00  0.00000000e+00  0.00000000e+00  0.00000000e+00\n",
            "  0.00000000e+00  0.00000000e+00  0.00000000e+00  4.01547644e-04\n",
            "  1.57476079e-05  4.78373331e-05  1.35537342e-03  6.37826277e-04\n",
            "  3.18779959e-04  1.85661810e-03  2.23605195e-03  1.51902525e-04\n",
            "  2.68164178e-04  1.47599552e-04  1.45827595e-04  6.99215976e-04\n",
            "  9.53486480e-04  3.01475782e-04  0.00000000e+00  0.00000000e+00\n",
            "  0.00000000e+00  0.00000000e+00  0.00000000e+00  0.00000000e+00\n",
            "  0.00000000e+00  0.00000000e+00  0.00000000e+00  0.00000000e+00\n",
            "  0.00000000e+00  1.11403217e-07  4.88426478e-04  1.40984287e-03\n",
            "  8.59162083e-06  5.74395177e-04  2.02577165e-03  1.69804657e-03\n",
            " -2.22036906e-04  1.31095212e-03  1.01356616e-03  2.43339920e-04\n",
            "  3.77267890e-04  3.85466643e-04  2.87486997e-04  8.20347341e-05\n",
            "  7.64543656e-04  3.75269679e-04  8.88934592e-05  6.60492333e-06\n",
            "  0.00000000e+00  0.00000000e+00  0.00000000e+00  0.00000000e+00\n",
            "  0.00000000e+00  0.00000000e+00  0.00000000e+00  0.00000000e+00\n",
            "  0.00000000e+00  3.23599807e-07  1.36842055e-03  6.85919134e-04\n",
            " -4.08736872e-04  1.04093773e-03  2.03014677e-03 -1.71773846e-03\n",
            " -6.75944053e-03 -5.12884185e-03 -2.64460244e-03  7.71471881e-04\n",
            "  8.80357751e-04  1.26004708e-03  6.67148910e-04 -3.62806240e-05\n",
            " -5.74438076e-04 -1.02726149e-03 -1.92971886e-04  5.20981193e-05\n",
            "  1.75445689e-06  7.43064106e-07  0.00000000e+00  0.00000000e+00\n",
            "  0.00000000e+00  0.00000000e+00  0.00000000e+00  0.00000000e+00\n",
            "  0.00000000e+00 -1.46036467e-03 -2.00846558e-03 -1.31118204e-03\n",
            " -1.45815444e-04  1.47213915e-03  2.25535617e-03 -4.57307370e-03\n",
            " -7.71413464e-03 -3.74995708e-03  9.96151357e-04  5.90790808e-03\n",
            "  5.48221637e-03  2.33740639e-03  3.70271999e-04 -9.53207898e-04\n",
            " -1.29485549e-03 -1.09432300e-03 -1.21604896e-03 -2.29821587e-03\n",
            " -3.02239554e-04  3.57771597e-07  0.00000000e+00  0.00000000e+00\n",
            "  0.00000000e+00  0.00000000e+00  0.00000000e+00  3.94246399e-06\n",
            "  1.48043546e-05 -1.61625678e-03 -1.67728320e-03 -1.36283680e-03\n",
            "  1.10108522e-05  1.70922105e-03  7.93364830e-04 -4.44543688e-03\n",
            " -2.98660388e-03  1.07158057e-03  5.11505501e-03  5.71498787e-03\n",
            "  4.68735956e-03  4.34909498e-06 -3.39443609e-03 -3.24236881e-03\n",
            " -2.44059763e-03 -6.58043078e-04 -1.57135678e-03 -2.83517642e-03\n",
            " -2.00152193e-04  1.44277466e-04  0.00000000e+00  0.00000000e+00\n",
            "  0.00000000e+00  0.00000000e+00  0.00000000e+00  1.87468177e-05\n",
            "  2.10696635e-05 -1.06927485e-03 -2.26110849e-03 -1.54607324e-03\n",
            "  7.98420864e-04  3.29008233e-03 -5.09136473e-04 -3.91193759e-03\n",
            " -2.46746722e-03  2.17305706e-03  5.28420229e-03  4.07000445e-03\n",
            "  3.75258410e-03 -1.84664445e-03 -5.96956816e-03 -1.47711823e-03\n",
            " -5.72036370e-04 -8.82858527e-04 -5.86472685e-04 -1.75943866e-03\n",
            "  1.25154067e-04  5.01042989e-04  0.00000000e+00  0.00000000e+00\n",
            "  0.00000000e+00  0.00000000e+00  0.00000000e+00  6.91942660e-06\n",
            "  1.87372571e-05 -8.70230724e-04 -2.20051361e-03 -5.53760736e-04\n",
            "  3.26055731e-03  7.38495961e-04 -2.31471541e-03 -4.80628712e-03\n",
            " -2.63082446e-03  2.62708031e-03  3.55453952e-03  3.78574827e-03\n",
            "  3.91001441e-03 -2.49223877e-03 -7.96140172e-03  8.72111414e-04\n",
            "  5.57728694e-04  7.50802225e-04  1.99910995e-04 -3.41444771e-04\n",
            "  1.17964321e-03  2.25543539e-04  0.00000000e+00  0.00000000e+00\n",
            "  0.00000000e+00  0.00000000e+00  0.00000000e+00  0.00000000e+00\n",
            "  2.94964207e-06 -8.93457909e-04 -2.30894843e-03  6.14304212e-04\n",
            "  1.71662978e-04 -3.50665837e-03 -5.36245434e-03 -5.13627892e-03\n",
            " -9.13793883e-06  3.11988243e-03  2.52449978e-03  4.01489530e-03\n",
            "  2.26329709e-03 -3.59741971e-03 -7.00430386e-03  7.46788282e-04\n",
            "  1.81932608e-03  1.01433322e-03 -2.14118417e-03 -2.20728587e-04\n",
            "  1.85940473e-03  0.00000000e+00  0.00000000e+00  0.00000000e+00\n",
            "  0.00000000e+00  0.00000000e+00  0.00000000e+00  0.00000000e+00\n",
            "  0.00000000e+00 -6.21191226e-04 -2.44585425e-03 -3.36960377e-03\n",
            " -3.58858355e-03 -4.17873170e-03 -4.83014761e-03 -4.37434716e-03\n",
            "  1.62000186e-03  2.58061453e-03  1.75915787e-03  4.60126239e-06\n",
            " -3.55391391e-03 -6.79651042e-03 -4.93660290e-03 -2.06796313e-03\n",
            " -8.83295434e-05 -3.05456779e-04 -1.73029257e-03  3.87556684e-05\n",
            "  1.83221267e-03  0.00000000e+00  0.00000000e+00  0.00000000e+00\n",
            "  0.00000000e+00  0.00000000e+00  0.00000000e+00  0.00000000e+00\n",
            "  0.00000000e+00 -3.47653608e-04 -5.63998148e-03 -6.18946273e-03\n",
            " -4.72280895e-03 -3.11651453e-03 -4.17968305e-03 -3.67666432e-03\n",
            " -2.84648756e-03 -1.12045172e-03  3.74737749e-04 -8.48200172e-04\n",
            " -3.78973153e-03 -6.29798882e-03 -4.45363205e-03 -4.76856483e-03\n",
            " -2.91464408e-03 -1.23661675e-03  5.74256293e-04  6.89426204e-04\n",
            "  1.77711982e-03  0.00000000e+00  0.00000000e+00  0.00000000e+00\n",
            "  0.00000000e+00  0.00000000e+00  0.00000000e+00  0.00000000e+00\n",
            "  6.41846398e-08 -5.01317554e-04 -7.80075043e-03 -6.68821437e-03\n",
            " -4.17119171e-03 -2.09706347e-03 -1.34559115e-03 -4.45028255e-03\n",
            " -4.31041978e-03 -4.26408974e-03 -3.59491236e-03 -1.84130843e-03\n",
            " -5.15318103e-03 -5.15862275e-03 -6.43888721e-03 -4.10648109e-03\n",
            " -2.73893680e-03  6.07635186e-04  2.03748350e-03  1.15480064e-03\n",
            "  9.37527686e-04  0.00000000e+00  0.00000000e+00  0.00000000e+00\n",
            "  0.00000000e+00  0.00000000e+00  0.00000000e+00  0.00000000e+00\n",
            "  2.10162092e-08 -4.72768937e-04 -7.58191431e-03 -6.96635339e-03\n",
            " -5.05042542e-03 -3.57268564e-03 -1.43590057e-03 -4.47862828e-03\n",
            " -7.92760216e-03 -5.87582588e-03 -3.23636923e-03 -8.53379315e-04\n",
            " -3.87715455e-03 -6.13194471e-03 -5.46280108e-03 -3.45032406e-03\n",
            " -3.21900169e-03  2.79822876e-03  2.87855696e-03  2.32449570e-03\n",
            "  4.53610061e-04  0.00000000e+00  0.00000000e+00  0.00000000e+00\n",
            "  0.00000000e+00  0.00000000e+00  0.00000000e+00  0.00000000e+00\n",
            "  2.27190003e-10  3.80517682e-04 -1.03249436e-03 -4.18231729e-03\n",
            " -4.64055967e-03 -5.00628492e-03 -5.41052409e-03 -5.25053730e-03\n",
            " -6.41378760e-03 -4.22917074e-03 -2.08384474e-03 -2.47540139e-03\n",
            " -5.50363027e-03 -5.71353175e-03 -7.73528917e-03 -6.94593228e-03\n",
            " -2.38696299e-03  3.03329155e-03  3.57547100e-03  1.58162520e-03\n",
            "  2.05973956e-05  0.00000000e+00  0.00000000e+00  0.00000000e+00\n",
            "  0.00000000e+00  0.00000000e+00  0.00000000e+00  0.00000000e+00\n",
            "  1.10160991e-05  7.81062583e-04  1.87542709e-03 -2.31479458e-03\n",
            " -2.94034788e-03 -4.15551290e-03 -5.21799456e-03 -3.69340787e-03\n",
            " -3.55171622e-03 -1.11791072e-03 -1.83072896e-03 -1.63646834e-03\n",
            " -4.09404142e-03 -5.49558504e-03 -9.35806893e-03 -5.94575144e-03\n",
            " -8.35568644e-04  4.23669768e-03  3.00369249e-03  3.17703962e-04\n",
            "  5.42094749e-05  7.15566603e-06  0.00000000e+00  0.00000000e+00\n",
            "  0.00000000e+00  0.00000000e+00  0.00000000e+00  4.12812426e-07\n",
            "  5.60595254e-06  7.21985823e-04  2.82638078e-03 -8.16557440e-04\n",
            " -2.50255549e-03 -1.06225205e-04  8.93157674e-04  1.91169267e-03\n",
            "  6.61371218e-04 -4.81129915e-04  9.00008075e-04 -4.20095457e-04\n",
            " -2.82011693e-03 -4.33119154e-03 -6.87329564e-03 -2.73583643e-03\n",
            "  2.76100030e-03  3.33545357e-03  1.73110852e-03  2.31742219e-04\n",
            "  2.54805927e-04  3.01546883e-04  0.00000000e+00  0.00000000e+00\n",
            "  0.00000000e+00  0.00000000e+00  0.00000000e+00  2.16854664e-06\n",
            "  4.63700926e-05  1.04380900e-03  1.85230013e-03  1.14576658e-03\n",
            " -1.57446577e-03  1.05841726e-03  4.76749102e-03  5.37336199e-03\n",
            "  5.11051482e-03  2.90384563e-03  7.19166710e-04 -7.11599307e-04\n",
            " -9.33341144e-05 -1.07637199e-03 -2.77676387e-03 -3.29744699e-03\n",
            "  8.87626724e-04  2.23967689e-03  8.22402129e-04  3.82237544e-04\n",
            "  3.11544165e-04  1.30035725e-04  0.00000000e+00  0.00000000e+00\n",
            "  0.00000000e+00  0.00000000e+00  0.00000000e+00  4.01780471e-06\n",
            "  4.33146015e-05  5.14258340e-04  1.84261391e-03  2.00902252e-03\n",
            "  1.90834329e-03  3.21019371e-03  4.89324005e-03  6.66192546e-03\n",
            "  7.04834890e-03  4.56337491e-03  2.30699661e-03  2.43744510e-03\n",
            "  1.98529824e-03 -2.34665626e-04 -4.22188034e-03 -4.92342142e-03\n",
            "  5.74711128e-04  1.68785907e-03  1.80776874e-06  3.34739454e-08\n",
            "  1.26425279e-08  3.78140275e-09  0.00000000e+00  0.00000000e+00\n",
            "  0.00000000e+00  0.00000000e+00  0.00000000e+00  1.51804697e-05\n",
            "  6.48540517e-05  1.91608386e-04  7.01099751e-04  1.41574955e-03\n",
            "  1.87916763e-03  1.95145246e-03  2.33894866e-03  2.86625000e-03\n",
            "  2.30446667e-03  2.00633542e-03  8.84874666e-04  2.62222299e-03\n",
            "  3.68123921e-03  9.46724729e-04 -3.29342019e-03 -6.11050241e-03\n",
            " -7.95106811e-04  6.82284299e-04  7.66654384e-09  3.78140275e-09\n",
            "  2.49572585e-09  1.89070137e-09  0.00000000e+00  0.00000000e+00\n",
            "  0.00000000e+00  0.00000000e+00  0.00000000e+00  1.58224120e-05\n",
            "  8.91820891e-05  1.88704056e-04  2.39292582e-04  8.99569714e-04\n",
            "  1.76672149e-03  1.90917694e-03  1.92024442e-03 -5.04464377e-04\n",
            " -2.32386962e-03 -2.42348106e-04 -6.13476790e-04  1.19196984e-03\n",
            "  3.28892889e-03  7.73945823e-04 -5.07297507e-03 -6.96571870e-03\n",
            " -2.26151058e-03  1.00016644e-06  1.25542576e-09  1.25542576e-09\n",
            "  4.08391487e-10  0.00000000e+00  0.00000000e+00  0.00000000e+00\n",
            "  0.00000000e+00  0.00000000e+00  0.00000000e+00  1.19238427e-06\n",
            "  7.97348621e-05  1.26243205e-04  1.61787262e-04  1.78198665e-04\n",
            "  6.62059058e-04  1.12201949e-03  9.91270179e-04 -3.50966444e-03\n",
            " -3.59347067e-03 -9.85361519e-04 -3.78882076e-04  7.43647804e-04\n",
            "  1.58482057e-03 -3.44198081e-04 -7.69989006e-03 -8.82649329e-03\n",
            " -2.50330684e-03  3.98873709e-07  0.00000000e+00  0.00000000e+00\n",
            "  0.00000000e+00  0.00000000e+00  0.00000000e+00  0.00000000e+00\n",
            "  0.00000000e+00  0.00000000e+00  0.00000000e+00  5.40132525e-08\n",
            "  3.00874763e-05  7.62514319e-05  1.03814949e-04  1.08704407e-04\n",
            "  9.60419638e-05  1.59022049e-04 -1.26109773e-03 -4.24751034e-03\n",
            " -3.14726424e-03 -1.04826468e-03  2.31261225e-03 -7.30305794e-04\n",
            "  1.32732128e-03 -1.54653535e-04 -7.37148197e-03 -8.98586027e-03\n",
            " -3.89974425e-03  0.00000000e+00  0.00000000e+00  0.00000000e+00\n",
            "  0.00000000e+00  0.00000000e+00  0.00000000e+00  0.00000000e+00\n",
            "  0.00000000e+00  0.00000000e+00  0.00000000e+00  3.37582833e-08\n",
            "  4.06642312e-06  2.80065069e-05  2.78854895e-05  1.38220785e-05\n",
            "  2.45372648e-05  1.00389690e-04 -5.31614874e-04 -4.08975780e-03\n",
            " -2.33589695e-03  1.90311542e-03  3.82684683e-03  1.87382835e-03\n",
            "  2.00828537e-03  1.21512089e-03 -5.95021946e-03 -8.08897708e-03\n",
            " -2.88971676e-03  0.00000000e+00  0.00000000e+00  0.00000000e+00\n",
            "  0.00000000e+00  0.00000000e+00  0.00000000e+00  0.00000000e+00\n",
            "  0.00000000e+00  0.00000000e+00  0.00000000e+00  0.00000000e+00\n",
            "  2.06867162e-06  1.86180441e-05  2.74371178e-05  1.31741717e-05\n",
            "  4.76578243e-05  9.94132060e-05  1.10429784e-04  3.88189655e-04\n",
            "  1.02215877e-03  2.19037686e-03  4.07384383e-03  1.78090879e-03\n",
            "  1.60614296e-03  1.73553650e-03 -1.51873857e-03 -3.62414122e-03\n",
            " -1.32814283e-03  0.00000000e+00  0.00000000e+00  0.00000000e+00\n",
            "  0.00000000e+00  0.00000000e+00  0.00000000e+00  0.00000000e+00\n",
            "  0.00000000e+00  0.00000000e+00  0.00000000e+00  0.00000000e+00\n",
            "  0.00000000e+00  0.00000000e+00  0.00000000e+00  8.10717847e-06\n",
            "  4.38145216e-05  4.49279796e-05  2.23710231e-05  6.60175510e-06\n",
            "  2.47676362e-04  9.33102856e-04  8.54270649e-04  1.76641173e-04\n",
            "  0.00000000e+00  0.00000000e+00  0.00000000e+00  0.00000000e+00\n",
            "  0.00000000e+00  0.00000000e+00  0.00000000e+00  0.00000000e+00\n",
            "  0.00000000e+00  0.00000000e+00  0.00000000e+00  0.00000000e+00\n",
            "  0.00000000e+00  0.00000000e+00  0.00000000e+00  0.00000000e+00\n",
            "  0.00000000e+00  0.00000000e+00  0.00000000e+00  0.00000000e+00\n",
            "  0.00000000e+00  0.00000000e+00  0.00000000e+00  0.00000000e+00\n",
            "  4.50592506e-06  1.04045912e-05  4.95651784e-06  0.00000000e+00\n",
            "  0.00000000e+00  0.00000000e+00  0.00000000e+00  0.00000000e+00\n",
            "  0.00000000e+00  0.00000000e+00  0.00000000e+00  0.00000000e+00\n",
            "  0.00000000e+00  0.00000000e+00  0.00000000e+00  0.00000000e+00]\n",
            "Época [2/5], Perda: 3.3447, Acurácia: 0.9230\n",
            "Gradientes da classe 4 na época 2:\n",
            " [ 0.00000000e+00  0.00000000e+00  0.00000000e+00  0.00000000e+00\n",
            "  0.00000000e+00  0.00000000e+00  0.00000000e+00  0.00000000e+00\n",
            "  0.00000000e+00  0.00000000e+00  0.00000000e+00  0.00000000e+00\n",
            "  0.00000000e+00  0.00000000e+00  0.00000000e+00  0.00000000e+00\n",
            "  0.00000000e+00  0.00000000e+00  0.00000000e+00  0.00000000e+00\n",
            "  0.00000000e+00  0.00000000e+00  0.00000000e+00  0.00000000e+00\n",
            "  0.00000000e+00  0.00000000e+00  0.00000000e+00  0.00000000e+00\n",
            "  0.00000000e+00  0.00000000e+00  0.00000000e+00  0.00000000e+00\n",
            "  0.00000000e+00  0.00000000e+00  0.00000000e+00  0.00000000e+00\n",
            "  0.00000000e+00  0.00000000e+00  0.00000000e+00  0.00000000e+00\n",
            "  0.00000000e+00  0.00000000e+00  0.00000000e+00  0.00000000e+00\n",
            "  0.00000000e+00  0.00000000e+00  0.00000000e+00  0.00000000e+00\n",
            "  0.00000000e+00  0.00000000e+00  0.00000000e+00  0.00000000e+00\n",
            "  0.00000000e+00  0.00000000e+00  0.00000000e+00  0.00000000e+00\n",
            "  0.00000000e+00  0.00000000e+00  0.00000000e+00  0.00000000e+00\n",
            "  0.00000000e+00  0.00000000e+00  0.00000000e+00  0.00000000e+00\n",
            "  0.00000000e+00  0.00000000e+00  0.00000000e+00  0.00000000e+00\n",
            "  2.78998345e-06  4.32173920e-06  5.88114699e-06 -1.46900734e-03\n",
            " -5.75633440e-03 -1.19556801e-03  9.05599300e-05  8.07432953e-05\n",
            "  1.42768283e-06  1.64183518e-07  0.00000000e+00  0.00000000e+00\n",
            "  0.00000000e+00  0.00000000e+00  0.00000000e+00  0.00000000e+00\n",
            "  0.00000000e+00  0.00000000e+00  0.00000000e+00  0.00000000e+00\n",
            "  0.00000000e+00  0.00000000e+00  0.00000000e+00  0.00000000e+00\n",
            "  0.00000000e+00  0.00000000e+00  0.00000000e+00  0.00000000e+00\n",
            "  1.32660411e-04  5.92656957e-04 -2.04766449e-03 -5.28271496e-03\n",
            " -6.41841209e-03 -2.25485978e-03  8.96642916e-04  4.36602044e-04\n",
            "  1.01871847e-05  1.07790049e-06  0.00000000e+00  0.00000000e+00\n",
            "  0.00000000e+00  0.00000000e+00  0.00000000e+00  0.00000000e+00\n",
            "  0.00000000e+00  0.00000000e+00  0.00000000e+00  0.00000000e+00\n",
            "  0.00000000e+00  0.00000000e+00  0.00000000e+00  0.00000000e+00\n",
            " -2.58990971e-04 -7.71130959e-04 -6.66467065e-04  1.16843257e-04\n",
            "  6.54334726e-04  9.78316413e-04  5.92249307e-05 -5.43660577e-03\n",
            " -3.01371538e-03  1.07472180e-03  8.81656306e-04  4.86560079e-04\n",
            "  1.18132477e-04  2.91352098e-05  2.13877192e-05  0.00000000e+00\n",
            "  0.00000000e+00  0.00000000e+00  0.00000000e+00  0.00000000e+00\n",
            "  0.00000000e+00  0.00000000e+00  0.00000000e+00  0.00000000e+00\n",
            "  0.00000000e+00  3.77791594e-07  8.92532626e-07 -6.61406812e-05\n",
            " -1.18939590e-03 -1.27191795e-03 -9.67045664e-04  3.75076168e-04\n",
            "  8.46931420e-04  1.72972120e-03 -3.20864632e-03 -5.33585716e-03\n",
            " -1.58971502e-03  4.56361478e-04 -8.70903605e-04  9.13085314e-05\n",
            " -1.93759799e-04 -8.36522377e-05 -3.29144932e-05 -1.21955032e-04\n",
            " -2.12646883e-05  0.00000000e+00  0.00000000e+00  0.00000000e+00\n",
            "  0.00000000e+00  0.00000000e+00  0.00000000e+00  0.00000000e+00\n",
            "  3.79343192e-07  1.20721108e-06  2.19237001e-04  1.82141084e-04\n",
            " -1.04928983e-03  1.21064484e-03  3.63095501e-03  4.75614797e-03\n",
            "  4.86804917e-03  5.07141324e-03  3.69048817e-03  3.31602991e-03\n",
            "  7.58359442e-03  3.03625409e-03 -2.90139625e-03  5.80957509e-04\n",
            "  1.63330603e-03  2.07384909e-03  8.34686274e-04 -5.12901519e-04\n",
            " -6.99645665e-04 -6.83988794e-04  0.00000000e+00  0.00000000e+00\n",
            "  0.00000000e+00  0.00000000e+00  0.00000000e+00  7.85552743e-08\n",
            "  5.75521653e-07  1.40736847e-06  2.17618959e-04  1.44764769e-03\n",
            "  3.57373315e-03  4.55252221e-03  2.45239539e-03  5.43138571e-03\n",
            "  9.28515382e-03  7.32804323e-03  5.64089976e-03  1.43947052e-02\n",
            "  1.30912550e-02  3.31909454e-04 -1.08583272e-03  2.17797211e-03\n",
            "  1.56716059e-03  3.40679986e-03  2.24101753e-03 -1.21113146e-03\n",
            " -1.56150607e-03 -1.76996004e-03  0.00000000e+00  0.00000000e+00\n",
            "  0.00000000e+00  0.00000000e+00  0.00000000e+00  1.17291866e-05\n",
            "  4.85231976e-05  2.63585709e-04  1.08323165e-03  4.84951632e-03\n",
            "  6.54354785e-03  3.07894801e-03  3.88773810e-03  9.65316687e-03\n",
            "  9.54941753e-03  5.35758026e-03  7.90229253e-03  7.16950232e-03\n",
            "  8.34481325e-03 -6.82482714e-05  9.70490975e-04  2.34584906e-03\n",
            "  2.67952913e-03  2.94968393e-03  1.58844015e-03  3.02583532e-04\n",
            "  2.93643589e-05 -9.06438043e-04  0.00000000e+00  0.00000000e+00\n",
            "  0.00000000e+00  0.00000000e+00  6.65730215e-04  1.15682045e-03\n",
            "  6.75753399e-04  1.04905176e-03  4.24455106e-03  7.15398788e-03\n",
            "  5.71776088e-03  4.00974462e-03  8.76874290e-03  8.53385124e-03\n",
            "  4.44660150e-03  3.43169970e-03  4.79466049e-03  3.92843923e-03\n",
            "  8.92981072e-04  3.18668946e-03  9.86507395e-04  3.44786420e-03\n",
            "  5.96458465e-03  4.42154519e-03  7.20168115e-04  1.22729936e-04\n",
            " -7.87763216e-04 -9.00454470e-05  0.00000000e+00  0.00000000e+00\n",
            "  0.00000000e+00  0.00000000e+00  4.02608281e-03  4.57620807e-03\n",
            "  3.13629047e-03  1.02787837e-03  6.08865591e-03  7.10998895e-03\n",
            "  4.74192901e-03  3.77635425e-03  4.32992307e-03  7.51480518e-04\n",
            "  1.10798911e-03  4.84071253e-03  4.19886503e-03  3.97117529e-03\n",
            "  2.04516854e-03  6.16235286e-03  3.67009034e-03  3.05823563e-03\n",
            "  5.61507232e-03  6.20695390e-03  1.11932590e-04 -3.59605328e-04\n",
            " -5.45713992e-04  0.00000000e+00  0.00000000e+00  0.00000000e+00\n",
            "  0.00000000e+00  0.00000000e+00  2.74217455e-03  4.21143696e-03\n",
            "  3.84734501e-03  8.40937719e-04  6.86292909e-03  5.81804477e-03\n",
            "  4.87306016e-03  4.26963624e-03  1.93185732e-03  1.23493001e-03\n",
            "  5.23488130e-03  3.29099875e-03  5.64792519e-03  9.62582324e-03\n",
            "  8.48651025e-03  1.18345795e-02  9.43822321e-03  9.31900460e-03\n",
            "  6.46820152e-03  4.56070434e-03  4.20747238e-05 -1.04818108e-04\n",
            "  1.19535951e-03  0.00000000e+00  0.00000000e+00  0.00000000e+00\n",
            "  0.00000000e+00  0.00000000e+00  0.00000000e+00  1.91793707e-03\n",
            "  1.74381223e-03 -3.46755114e-04  6.73121633e-03  7.61423633e-03\n",
            "  8.10769293e-03  4.31705592e-03 -1.69595412e-03  8.12936109e-04\n",
            "  2.66531575e-03  2.42991257e-03  5.35097998e-03  8.72102007e-03\n",
            "  5.97445341e-03  8.55364092e-03  1.18991211e-02  1.57948453e-02\n",
            "  9.24990606e-03  3.67782149e-03  2.37496919e-03  1.56923349e-03\n",
            "  7.85861193e-05  0.00000000e+00  0.00000000e+00  0.00000000e+00\n",
            "  0.00000000e+00  0.00000000e+00  0.00000000e+00  0.00000000e+00\n",
            "  2.15713740e-07  4.90497740e-04  5.24421176e-03  9.64078866e-03\n",
            "  1.15434211e-02  3.84746329e-03 -3.16351675e-03  1.82731554e-03\n",
            "  3.64307594e-03  4.57684649e-03  6.87837647e-03  9.73464362e-03\n",
            "  6.29649730e-03  4.96315397e-03  1.13766119e-02  1.00134294e-02\n",
            "  4.28495696e-03  2.03703484e-03  1.83220443e-04  2.68759959e-05\n",
            "  1.56094032e-07  0.00000000e+00  0.00000000e+00  0.00000000e+00\n",
            "  0.00000000e+00  0.00000000e+00  0.00000000e+00  0.00000000e+00\n",
            "  0.00000000e+00  9.73112707e-04  6.45162025e-03  1.06742810e-02\n",
            "  6.94994349e-03  6.41461043e-03  6.04851497e-03  5.80467610e-03\n",
            "  7.98663404e-03  9.99815576e-03  9.69977584e-03  5.64395497e-03\n",
            "  6.06662035e-03  1.20030493e-02  1.65529996e-02  6.72095409e-03\n",
            "  1.73429539e-03  6.46959466e-04  1.67825187e-04 -1.85532786e-04\n",
            "  2.04150856e-05  0.00000000e+00  0.00000000e+00  0.00000000e+00\n",
            "  0.00000000e+00  0.00000000e+00  0.00000000e+00  0.00000000e+00\n",
            "  0.00000000e+00  4.03481303e-03  5.79438685e-03  7.23783858e-03\n",
            "  3.40286107e-03  5.46963653e-03  7.92090222e-03  7.67992437e-03\n",
            "  6.54263701e-03  3.94179020e-03  4.03030589e-03  1.10511261e-03\n",
            "  4.64086328e-03  1.57014001e-02  1.84635073e-02  4.23689838e-03\n",
            "  1.08007435e-03 -5.33520710e-04 -1.73544255e-03 -8.30603298e-04\n",
            "  1.58162875e-04  6.00151143e-05  0.00000000e+00  0.00000000e+00\n",
            "  0.00000000e+00  0.00000000e+00  2.06059354e-04  0.00000000e+00\n",
            "  7.94123935e-07  1.66196527e-03  9.23513609e-04 -3.68595077e-03\n",
            " -3.96953808e-04  1.09539730e-02  1.05310297e-02  9.23789665e-03\n",
            "  7.57487910e-03  6.82543637e-03  7.64375506e-03 -3.41629377e-04\n",
            " -2.01589763e-04  1.78084467e-02  1.23908268e-02  3.05937277e-03\n",
            "  1.20689219e-03 -3.89975175e-04 -6.17930805e-03 -5.64797828e-03\n",
            " -9.65264393e-04  8.65334223e-05  0.00000000e+00  0.00000000e+00\n",
            "  0.00000000e+00  0.00000000e+00  0.00000000e+00  3.85291344e-07\n",
            "  1.67102571e-05 -2.68175536e-05  4.00406680e-05 -9.00749024e-03\n",
            " -8.53166170e-03 -9.07413021e-04  3.14978440e-03  4.73379996e-03\n",
            "  4.42318246e-03  3.61779355e-03  7.73814914e-04 -3.37979035e-03\n",
            " -1.35538669e-03  1.16886906e-02  6.26150519e-03 -1.40494853e-03\n",
            " -2.01905728e-03 -5.57008898e-03 -6.26193639e-03 -6.66805077e-03\n",
            " -2.28423392e-03  3.07054070e-05  0.00000000e+00  0.00000000e+00\n",
            "  0.00000000e+00  0.00000000e+00  1.09369971e-03  3.81924183e-04\n",
            "  2.79865471e-05  7.94910375e-05  3.21921776e-04 -2.91624456e-03\n",
            " -1.10455072e-02 -9.61009413e-03 -7.22659798e-03 -7.14965677e-03\n",
            " -7.27628823e-03 -4.43546800e-03  6.55625598e-04 -3.83559288e-03\n",
            " -4.09771781e-03  5.28453570e-03  6.56593591e-04 -5.79543551e-03\n",
            " -6.07775152e-03 -5.36204129e-03 -3.12409573e-03 -6.76682743e-04\n",
            "  1.54342240e-04  6.53611778e-07  0.00000000e+00  0.00000000e+00\n",
            "  0.00000000e+00  0.00000000e+00  1.93378783e-03  4.29693377e-04\n",
            "  5.44232062e-05  1.03313774e-04  3.68696754e-04  4.65779653e-04\n",
            " -9.28696478e-04 -3.88200954e-03 -5.87026728e-03 -5.62341837e-03\n",
            " -2.54160981e-03  1.02813228e-03  1.78124616e-03 -5.54560591e-03\n",
            " -3.43306502e-03  1.08170491e-02  3.95448878e-03 -9.17527475e-04\n",
            "  5.80440043e-04  7.64180557e-04  6.28874288e-04  1.10984220e-05\n",
            "  4.57425176e-06  3.85004199e-07  0.00000000e+00  0.00000000e+00\n",
            "  0.00000000e+00  0.00000000e+00  0.00000000e+00  2.44162838e-05\n",
            "  8.85339468e-05  1.76220463e-04  3.49561480e-04  4.57322749e-04\n",
            "  3.98429285e-04 -7.47789512e-04  6.04665722e-04  2.19154614e-03\n",
            "  8.45798571e-03  6.44538365e-03 -4.23382007e-04  1.57876842e-04\n",
            "  6.63711084e-03  1.40269371e-02  5.93756838e-03  1.31894427e-03\n",
            "  6.81736565e-04  6.57496043e-04  1.73538589e-04  1.38229661e-05\n",
            "  1.96756832e-06  0.00000000e+00  0.00000000e+00  0.00000000e+00\n",
            "  0.00000000e+00  0.00000000e+00  0.00000000e+00  2.09259142e-05\n",
            "  7.80478367e-05  1.89019062e-04  3.06128553e-04  2.99392181e-04\n",
            " -5.96401631e-04 -9.46730783e-04  8.95662408e-04  6.52022567e-03\n",
            "  9.93638951e-03  6.52937079e-03 -2.69550784e-03  1.79882033e-03\n",
            "  9.80002340e-03  1.17305387e-02  4.29877732e-03  1.09814119e-03\n",
            "  3.28576716e-04  2.49386794e-04  2.33206483e-05  1.02650465e-05\n",
            "  9.93848062e-07  0.00000000e+00  1.10573694e-06  0.00000000e+00\n",
            "  0.00000000e+00  0.00000000e+00  0.00000000e+00  1.25098768e-06\n",
            "  4.85609817e-05  1.41807803e-04  3.45987617e-04 -3.95679410e-04\n",
            " -1.44917110e-03 -3.38048594e-05  2.21307413e-03  7.43958540e-03\n",
            "  9.01766215e-03  7.35837268e-03  3.34746414e-03  4.18493245e-03\n",
            "  5.25705237e-03  8.69604014e-03  3.07911797e-03  3.44420638e-04\n",
            " -1.97625195e-04  9.48068828e-06  3.42663293e-06  4.45981840e-07\n",
            "  9.84894442e-08  0.00000000e+00  0.00000000e+00  0.00000000e+00\n",
            "  0.00000000e+00  0.00000000e+00  0.00000000e+00  1.70758394e-08\n",
            "  2.93605353e-05  8.18424669e-05 -2.65543174e-04 -1.34408427e-03\n",
            " -2.65039387e-04  4.91480459e-04  1.73163484e-03  4.45087673e-03\n",
            "  7.70315761e-03  7.88674690e-03  1.81270728e-03 -3.08036193e-04\n",
            "  4.88117803e-03  8.96819960e-03  5.12953615e-03 -1.85089989e-03\n",
            " -5.99478837e-04  1.88301988e-06  1.56699878e-06  1.10976282e-06\n",
            "  0.00000000e+00  0.00000000e+00  0.00000000e+00  0.00000000e+00\n",
            "  0.00000000e+00  0.00000000e+00  0.00000000e+00  0.00000000e+00\n",
            "  5.84846066e-06  3.33287826e-05 -1.44350855e-03 -6.39918901e-04\n",
            "  3.13535682e-04  7.07760861e-04  3.00604734e-03  4.65330528e-03\n",
            "  6.84774760e-03  4.21230495e-03 -7.84659875e-04  1.34316785e-03\n",
            "  2.82432954e-03  9.46185645e-03  8.74888152e-03  1.33550551e-03\n",
            "  1.56137138e-03  2.59938091e-03  1.03892688e-07  4.67517083e-07\n",
            "  0.00000000e+00  0.00000000e+00  0.00000000e+00  0.00000000e+00\n",
            "  0.00000000e+00  0.00000000e+00  0.00000000e+00  0.00000000e+00\n",
            "  0.00000000e+00  3.43307074e-05 -7.24448000e-06  9.47309745e-05\n",
            "  8.90855736e-05  1.05201441e-03  2.59659369e-03  2.24678754e-03\n",
            "  3.99331190e-03  3.66969872e-03  2.58944207e-03  1.54324656e-03\n",
            "  1.93235406e-03  5.39025106e-03  6.68964116e-03  5.66054368e-03\n",
            "  4.75447252e-03  7.18453666e-04  0.00000000e+00  0.00000000e+00\n",
            "  0.00000000e+00  0.00000000e+00  0.00000000e+00  0.00000000e+00\n",
            "  0.00000000e+00  0.00000000e+00  0.00000000e+00  0.00000000e+00\n",
            "  0.00000000e+00  1.94908736e-07  9.90205717e-06  3.36752273e-05\n",
            "  3.70529124e-05  1.90242426e-05  5.98913493e-06  9.46441105e-07\n",
            "  3.27618269e-04  1.33325928e-03  1.27454381e-03  2.68325035e-04\n",
            "  1.98284484e-04  2.27268832e-03  1.89294375e-03  2.15636421e-04\n",
            "  0.00000000e+00  0.00000000e+00  0.00000000e+00  0.00000000e+00\n",
            "  0.00000000e+00  0.00000000e+00  0.00000000e+00  0.00000000e+00\n",
            "  0.00000000e+00  0.00000000e+00  0.00000000e+00  0.00000000e+00\n",
            "  0.00000000e+00  0.00000000e+00  1.90519731e-05  2.90930657e-05\n",
            "  6.26995416e-06  8.80251264e-07  5.84514680e-07  0.00000000e+00\n",
            "  0.00000000e+00  0.00000000e+00  0.00000000e+00  0.00000000e+00\n",
            "  0.00000000e+00  0.00000000e+00  0.00000000e+00  0.00000000e+00\n",
            "  0.00000000e+00  0.00000000e+00  0.00000000e+00  0.00000000e+00\n",
            "  0.00000000e+00  0.00000000e+00  0.00000000e+00  0.00000000e+00]\n",
            "Época [3/5], Perda: 3.0978, Acurácia: 0.9230\n",
            "Gradientes da classe 4 na época 3:\n",
            " [ 0.00000000e+00  0.00000000e+00  0.00000000e+00  0.00000000e+00\n",
            "  0.00000000e+00  0.00000000e+00  0.00000000e+00  0.00000000e+00\n",
            "  0.00000000e+00  0.00000000e+00  0.00000000e+00  0.00000000e+00\n",
            "  0.00000000e+00  0.00000000e+00  0.00000000e+00  0.00000000e+00\n",
            "  0.00000000e+00  0.00000000e+00  0.00000000e+00  0.00000000e+00\n",
            "  0.00000000e+00  0.00000000e+00  0.00000000e+00  0.00000000e+00\n",
            "  0.00000000e+00  0.00000000e+00  0.00000000e+00  0.00000000e+00\n",
            "  0.00000000e+00  0.00000000e+00  0.00000000e+00  0.00000000e+00\n",
            "  0.00000000e+00  0.00000000e+00  0.00000000e+00  0.00000000e+00\n",
            "  0.00000000e+00  0.00000000e+00  0.00000000e+00  0.00000000e+00\n",
            "  0.00000000e+00  0.00000000e+00  0.00000000e+00  1.48081153e-06\n",
            "  5.08505082e-06  0.00000000e+00  0.00000000e+00  0.00000000e+00\n",
            "  0.00000000e+00  0.00000000e+00  0.00000000e+00  0.00000000e+00\n",
            "  0.00000000e+00  0.00000000e+00  0.00000000e+00  0.00000000e+00\n",
            "  0.00000000e+00  0.00000000e+00  0.00000000e+00  0.00000000e+00\n",
            "  0.00000000e+00  0.00000000e+00  0.00000000e+00  0.00000000e+00\n",
            "  0.00000000e+00  0.00000000e+00  1.64192330e-04  6.92593108e-04\n",
            "  4.56356065e-04  1.32377681e-04  5.37194137e-06  9.78417847e-06\n",
            "  2.25034037e-05  7.95896340e-05  1.17085001e-04  4.96824578e-05\n",
            "  0.00000000e+00  0.00000000e+00  0.00000000e+00  0.00000000e+00\n",
            "  0.00000000e+00  0.00000000e+00  0.00000000e+00  0.00000000e+00\n",
            "  0.00000000e+00  0.00000000e+00  0.00000000e+00  0.00000000e+00\n",
            "  0.00000000e+00  0.00000000e+00  0.00000000e+00  0.00000000e+00\n",
            "  0.00000000e+00  0.00000000e+00  2.32854582e-04  8.13919643e-04\n",
            "  1.00700930e-03  1.05696346e-03  2.08240730e-04  1.08451226e-04\n",
            "  1.47752959e-04  1.88804770e-04  1.62284545e-04  1.26635161e-04\n",
            "  1.13017944e-04  1.44334015e-04  0.00000000e+00  0.00000000e+00\n",
            "  0.00000000e+00  0.00000000e+00  0.00000000e+00  0.00000000e+00\n",
            "  0.00000000e+00  0.00000000e+00  0.00000000e+00  0.00000000e+00\n",
            "  0.00000000e+00  0.00000000e+00  0.00000000e+00  0.00000000e+00\n",
            "  0.00000000e+00  7.52349536e-07  2.96996383e-04  9.80465556e-04\n",
            "  1.31965324e-03  1.20719324e-03  6.55425887e-04  6.71314541e-04\n",
            "  7.15586706e-04  6.12328702e-04  4.83107491e-04  3.76940588e-04\n",
            "  2.44504074e-04  1.71619991e-04  6.26083420e-05  1.43738007e-05\n",
            "  1.14707709e-05  0.00000000e+00  0.00000000e+00  0.00000000e+00\n",
            "  0.00000000e+00  0.00000000e+00  0.00000000e+00  8.91314755e-09\n",
            "  7.35334638e-08  6.75913654e-08  1.05472246e-07  1.07646883e-05\n",
            "  9.62632112e-05  2.38957480e-04  9.79283126e-04  1.30360597e-03\n",
            "  1.28568267e-03  1.22102548e-03  1.09028781e-03  1.04607467e-03\n",
            "  1.10540201e-03  1.12079747e-03  9.14155971e-04  7.65141856e-04\n",
            "  1.29071035e-04 -1.30216812e-03 -2.70519499e-03 -9.02468455e-04\n",
            " -1.29926208e-04  0.00000000e+00  0.00000000e+00  0.00000000e+00\n",
            "  0.00000000e+00  0.00000000e+00  0.00000000e+00  1.02501197e-07\n",
            "  1.88661616e-07  1.88661616e-07  1.70306710e-04  6.31559757e-04\n",
            "  6.74009381e-04  1.02888397e-03  1.58624363e-03  2.67763250e-03\n",
            "  3.80324968e-03  3.78418760e-03  4.70881024e-03  3.38033354e-03\n",
            "  3.36185098e-03  3.00492859e-03  2.48531997e-03  3.46612869e-05\n",
            " -3.42143630e-03 -4.72441036e-03 -2.24708300e-03 -2.00023918e-04\n",
            " -2.08351572e-04  2.55839350e-05  9.26324719e-05  1.70934974e-04\n",
            "  0.00000000e+00  0.00000000e+00  0.00000000e+00  3.60402601e-06\n",
            "  1.31085344e-05  1.31085344e-05  5.52413636e-04  8.27429816e-04\n",
            "  1.08185213e-03  2.11747689e-03  4.06179437e-03  6.18090807e-03\n",
            "  5.22963796e-03  7.14441482e-03  9.04823747e-03  6.95851399e-03\n",
            "  4.93502803e-03  3.73528758e-03  5.76750142e-04 -2.34250561e-03\n",
            " -2.91396421e-03 -1.18918321e-03  3.12916189e-03  3.44780739e-03\n",
            "  4.32007574e-03  3.74967651e-03  2.68817152e-04  1.00252997e-04\n",
            "  0.00000000e+00  0.00000000e+00  0.00000000e+00  1.63864879e-05\n",
            "  2.03747040e-05  2.66624575e-05  1.73925830e-04  7.56646914e-04\n",
            "  2.35619536e-03  4.58906079e-03  7.33290752e-03  9.12573002e-03\n",
            "  1.24016842e-02  1.24330493e-02  9.44275688e-03  7.74072157e-03\n",
            "  5.71955927e-03  3.92831815e-03  1.92516006e-03  7.11402739e-04\n",
            "  3.65552492e-03  7.10255560e-03  1.24275787e-02  1.20514212e-02\n",
            "  9.28810798e-03  4.86076809e-03  7.01657918e-05  0.00000000e+00\n",
            "  0.00000000e+00  1.88485137e-04  0.00000000e+00  6.03863646e-06\n",
            "  1.56082679e-05  3.80711390e-05  4.26906947e-04  1.86101429e-03\n",
            "  3.09730880e-03  7.13250367e-03  1.21091073e-02  1.12463236e-02\n",
            "  1.20692682e-02  7.71310646e-03  8.26846622e-03  8.98879860e-03\n",
            "  8.40247795e-03  5.01537276e-03  3.28388344e-03  4.84985951e-03\n",
            "  8.90302006e-03  1.42191770e-02  1.33068264e-02  1.08255530e-02\n",
            "  7.24140136e-03  4.83327633e-04  5.55213592e-06  0.00000000e+00\n",
            "  0.00000000e+00  2.17482848e-05  0.00000000e+00  0.00000000e+00\n",
            "  5.16822638e-06  6.97053765e-05  1.44735281e-03  3.10339197e-03\n",
            "  6.70925807e-03  1.15625896e-02  1.18887685e-02  1.21825822e-02\n",
            "  8.07709154e-03  2.75019091e-03  6.63000206e-03  9.52623133e-03\n",
            "  7.57745700e-03  7.66316848e-03  9.31632891e-03  1.13040172e-02\n",
            "  1.02189006e-02  1.11772576e-02  7.77131319e-03  6.96272403e-03\n",
            "  4.80945036e-03  0.00000000e+00  0.00000000e+00  0.00000000e+00\n",
            "  0.00000000e+00  0.00000000e+00  0.00000000e+00  0.00000000e+00\n",
            "  0.00000000e+00  6.60368605e-05  2.25744490e-03  7.71363545e-03\n",
            "  1.08834337e-02  1.29113700e-02  1.41618336e-02  1.03364736e-02\n",
            "  3.65877640e-03  3.04907071e-03  6.84476458e-03  8.28917325e-03\n",
            "  7.61762122e-03  1.14866504e-02  1.42687876e-02  1.03282733e-02\n",
            "  1.02080461e-02  8.13010614e-03  7.02635851e-03  6.23640465e-03\n",
            "  1.25900016e-03  0.00000000e+00  0.00000000e+00  0.00000000e+00\n",
            "  0.00000000e+00  0.00000000e+00  0.00000000e+00  0.00000000e+00\n",
            "  0.00000000e+00 -5.26582517e-06  4.08132188e-03  9.67433676e-03\n",
            "  1.38201993e-02  1.73162483e-02  1.45222582e-02  1.11746527e-02\n",
            "  5.88938966e-03  6.64164405e-03  9.42604616e-03  8.37940909e-03\n",
            "  1.04861828e-02  1.48213655e-02  1.45126106e-02  1.07025020e-02\n",
            "  9.93944798e-03  7.66258780e-03  6.92382595e-03  2.08571437e-03\n",
            "  1.09252369e-06  0.00000000e+00  0.00000000e+00  0.00000000e+00\n",
            "  0.00000000e+00  0.00000000e+00  0.00000000e+00  0.00000000e+00\n",
            "  0.00000000e+00  8.35212762e-04  6.77434914e-03  1.19931735e-02\n",
            "  1.84632558e-02  1.75755154e-02  1.31515022e-02  1.22588295e-02\n",
            "  1.10071022e-02  1.38324015e-02  1.50667494e-02  1.32150017e-02\n",
            "  1.27750896e-02  1.29933860e-02  9.41670127e-03  1.05680730e-02\n",
            "  8.32813978e-03  7.36851711e-03  2.86729890e-03  4.29952270e-05\n",
            "  2.18924069e-05  0.00000000e+00  0.00000000e+00  0.00000000e+00\n",
            "  0.00000000e+00  0.00000000e+00  0.00000000e+00  0.00000000e+00\n",
            "  0.00000000e+00  4.79226140e-03  7.26627698e-03  1.31215332e-02\n",
            "  1.61175113e-02  1.30992541e-02  1.17911231e-02  1.34631665e-02\n",
            "  1.24640232e-02  1.26675330e-02  1.15878256e-02  1.08774165e-02\n",
            "  1.26603609e-02  1.18479654e-02  1.24214850e-02  7.51219876e-03\n",
            "  7.05062132e-03  2.16047605e-03  6.37214456e-04  6.30822033e-05\n",
            "  2.01689312e-04  1.52961569e-04  0.00000000e+00  0.00000000e+00\n",
            "  0.00000000e+00  0.00000000e+00  0.00000000e+00  0.00000000e+00\n",
            "  2.17282377e-06  5.61803114e-03  8.47673044e-03  7.65430927e-03\n",
            "  4.38143872e-03  4.09127632e-03  3.95769998e-03  6.08631782e-03\n",
            "  6.35328842e-03  4.26791329e-03  5.25781047e-03  8.26966111e-03\n",
            "  1.07998475e-02  1.59247443e-02  1.23475222e-02  7.09386589e-03\n",
            "  2.93548102e-03  1.41763443e-03  1.05379813e-03  4.38576535e-04\n",
            "  5.14190295e-04  4.37033043e-04  0.00000000e+00  0.00000000e+00\n",
            "  0.00000000e+00  0.00000000e+00  0.00000000e+00  0.00000000e+00\n",
            "  2.39325946e-05  2.12451280e-03  8.95894971e-03  4.99474769e-03\n",
            "  2.01612478e-03  1.77871459e-03  3.17841140e-03  3.79900518e-03\n",
            "  2.23629200e-03  2.41711154e-03  3.52797029e-03  9.48299654e-03\n",
            "  1.27448132e-02  1.67212281e-02  1.42162452e-02  4.36076429e-03\n",
            "  1.86504575e-03  1.87419890e-03  8.41346395e-04  2.16702247e-04\n",
            "  1.17224539e-04  4.98959842e-08  0.00000000e+00  0.00000000e+00\n",
            "  0.00000000e+00  0.00000000e+00  0.00000000e+00  8.24768085e-06\n",
            "  4.77612048e-05  3.24972207e-04  4.65769554e-03  5.70303760e-03\n",
            "  5.50110545e-03  3.79496627e-03  4.25165799e-03  3.17068677e-03\n",
            "  4.13984671e-04  1.76678854e-03  1.00021837e-02  1.52750891e-02\n",
            "  1.88124757e-02  2.01351792e-02  1.19327009e-02  2.71223928e-03\n",
            "  1.37417612e-03  1.36547431e-03  5.24366507e-04  1.45780912e-04\n",
            "  8.01113565e-05  1.39826750e-06  0.00000000e+00  0.00000000e+00\n",
            "  0.00000000e+00  0.00000000e+00  0.00000000e+00  2.17090237e-05\n",
            "  8.92115640e-05  3.97371885e-04  1.62693835e-03  4.86138789e-03\n",
            "  6.03233371e-03  4.94909380e-03  5.52768214e-03  2.71091168e-03\n",
            "  1.65022886e-03  7.32837617e-03  1.55628007e-02  1.69675723e-02\n",
            "  1.96179133e-02  1.36198197e-02  7.92360958e-03  1.70781184e-03\n",
            "  1.22832274e-03  7.99707836e-04  2.41995862e-04  5.48498538e-05\n",
            "  1.14059867e-06  3.27124980e-07  0.00000000e+00  0.00000000e+00\n",
            "  0.00000000e+00  0.00000000e+00  0.00000000e+00  3.97902550e-05\n",
            "  1.85453435e-04  4.76063695e-04  9.51481925e-04  1.53790240e-03\n",
            "  3.71698360e-03  6.15684548e-03  4.24708333e-03  1.76192902e-03\n",
            "  3.88771971e-03  1.21712387e-02  1.47274826e-02  1.65940970e-02\n",
            "  1.06608048e-02  5.54533163e-03  3.74267367e-03  1.36921904e-03\n",
            "  8.52990022e-04  4.64594312e-04  3.78714649e-05  7.19225636e-06\n",
            "  0.00000000e+00  0.00000000e+00  0.00000000e+00  0.00000000e+00\n",
            "  0.00000000e+00  0.00000000e+00  0.00000000e+00  6.05298228e-05\n",
            "  1.78521339e-04  3.82883998e-04  7.10765191e-04  8.30683333e-04\n",
            "  9.44960222e-04  2.00467813e-03  1.51675404e-03  3.07626650e-03\n",
            "  1.26334624e-02  1.06261251e-02  1.12640802e-02  9.45580471e-03\n",
            "  7.23508606e-03  5.41853812e-03  3.76433693e-03  1.25734997e-03\n",
            "  5.79597254e-04  1.91253523e-04  2.48429060e-05  4.60239926e-06\n",
            "  0.00000000e+00  0.00000000e+00  0.00000000e+00  0.00000000e+00\n",
            "  0.00000000e+00  0.00000000e+00  0.00000000e+00  3.24530411e-05\n",
            "  9.14578559e-05  2.97947117e-04  4.96326247e-04  6.18620776e-04\n",
            "  1.08778360e-03  3.25326255e-04  6.85231589e-06  5.31382905e-03\n",
            "  8.76354799e-03  9.74732358e-03  6.23904308e-03  8.76774266e-03\n",
            "  6.40641758e-03  4.93292138e-03  2.11651134e-03  7.51908578e-04\n",
            "  4.34932270e-04  2.99118783e-05  2.04726330e-05  5.98831184e-06\n",
            "  0.00000000e+00  0.00000000e+00  0.00000000e+00  0.00000000e+00\n",
            "  0.00000000e+00  0.00000000e+00  0.00000000e+00  1.13933675e-06\n",
            "  1.85813788e-05  1.82262433e-04  4.15420393e-04  6.03428518e-04\n",
            "  1.33159396e-03  3.16353806e-04  3.67864617e-03  6.64443476e-03\n",
            "  7.32660946e-03  4.12968686e-03  4.56395885e-03  5.75193297e-03\n",
            "  5.10448962e-03  4.18630242e-03  1.48844533e-03  6.50536327e-04\n",
            "  2.71466444e-04  1.02043978e-05  0.00000000e+00  0.00000000e+00\n",
            "  0.00000000e+00  0.00000000e+00  0.00000000e+00  0.00000000e+00\n",
            "  0.00000000e+00  0.00000000e+00  0.00000000e+00  5.59239306e-05\n",
            "  2.01019589e-04  2.50727055e-04  4.66396770e-04  8.36258987e-04\n",
            "  2.73665180e-03  3.18320305e-03  5.28240204e-03  6.71611493e-03\n",
            "  2.72003538e-03  1.92215503e-03  4.41671535e-03  3.68553400e-03\n",
            "  4.75267321e-03  3.81233776e-03  1.10081257e-03  3.60402162e-04\n",
            "  2.46079057e-04  1.14117880e-04  0.00000000e+00  0.00000000e+00\n",
            "  0.00000000e+00  0.00000000e+00  0.00000000e+00  0.00000000e+00\n",
            "  0.00000000e+00  0.00000000e+00  0.00000000e+00  1.50486216e-04\n",
            "  2.60257919e-04  2.86075723e-04  3.27848102e-04  1.93659472e-03\n",
            "  6.37758756e-03  3.18470784e-03  4.90105152e-03  2.98987189e-03\n",
            "  1.54457777e-03  2.73026968e-03  3.69219016e-03  2.94548320e-03\n",
            "  4.20831982e-03  3.44922440e-03  6.70033274e-04  1.95426459e-04\n",
            "  1.93213447e-04  1.30076776e-04  0.00000000e+00  0.00000000e+00\n",
            "  0.00000000e+00  0.00000000e+00  0.00000000e+00  0.00000000e+00\n",
            "  0.00000000e+00  0.00000000e+00  0.00000000e+00  0.00000000e+00\n",
            "  2.24907535e-06  2.03438685e-05  7.88907695e-04  5.94093604e-03\n",
            "  6.13457756e-03  3.35395057e-03  1.32072100e-03  6.74281269e-04\n",
            "  2.19642604e-03  4.46033105e-03  4.14537871e-03  1.79421075e-03\n",
            "  3.32595315e-03  3.07258987e-03  6.57975732e-04  0.00000000e+00\n",
            "  0.00000000e+00  0.00000000e+00  0.00000000e+00  0.00000000e+00\n",
            "  0.00000000e+00  0.00000000e+00  0.00000000e+00  0.00000000e+00\n",
            "  0.00000000e+00  0.00000000e+00  0.00000000e+00  0.00000000e+00\n",
            "  0.00000000e+00  1.39986200e-08  6.90222732e-05  1.56190494e-04\n",
            "  1.50222259e-04  1.03685212e-04  5.34826358e-05  3.99116652e-05\n",
            "  2.85253453e-04  1.16295647e-03  1.13779993e-03  4.18151933e-04\n",
            "  3.05811933e-04  1.54643669e-04  7.61074189e-05  0.00000000e+00\n",
            "  0.00000000e+00  0.00000000e+00  0.00000000e+00  0.00000000e+00\n",
            "  0.00000000e+00  0.00000000e+00  0.00000000e+00  0.00000000e+00\n",
            "  0.00000000e+00  0.00000000e+00  0.00000000e+00  0.00000000e+00\n",
            "  0.00000000e+00  0.00000000e+00  4.05513219e-07  1.79279527e-06\n",
            "  1.79279527e-06  0.00000000e+00  0.00000000e+00  0.00000000e+00\n",
            "  0.00000000e+00  0.00000000e+00  0.00000000e+00  8.85981626e-06\n",
            "  1.55867147e-05  7.54725124e-06  0.00000000e+00  0.00000000e+00\n",
            "  0.00000000e+00  0.00000000e+00  0.00000000e+00  0.00000000e+00\n",
            "  0.00000000e+00  0.00000000e+00  0.00000000e+00  0.00000000e+00]\n",
            "Época [4/5], Perda: 2.9109, Acurácia: 0.9310\n",
            "Gradientes da classe 4 na época 4:\n",
            " [ 0.00000000e+00  0.00000000e+00  0.00000000e+00  0.00000000e+00\n",
            "  0.00000000e+00  0.00000000e+00  0.00000000e+00  0.00000000e+00\n",
            "  0.00000000e+00  0.00000000e+00  0.00000000e+00  0.00000000e+00\n",
            "  0.00000000e+00  0.00000000e+00  0.00000000e+00  0.00000000e+00\n",
            "  0.00000000e+00  0.00000000e+00  0.00000000e+00  0.00000000e+00\n",
            "  0.00000000e+00  0.00000000e+00  0.00000000e+00  0.00000000e+00\n",
            "  0.00000000e+00  0.00000000e+00  0.00000000e+00  0.00000000e+00\n",
            "  0.00000000e+00  0.00000000e+00  0.00000000e+00  0.00000000e+00\n",
            "  0.00000000e+00  0.00000000e+00  0.00000000e+00  0.00000000e+00\n",
            "  0.00000000e+00  0.00000000e+00  0.00000000e+00  0.00000000e+00\n",
            "  0.00000000e+00  0.00000000e+00  0.00000000e+00  7.16426221e-05\n",
            "  9.56485237e-05  2.40059053e-05  0.00000000e+00  0.00000000e+00\n",
            "  0.00000000e+00  0.00000000e+00  0.00000000e+00  0.00000000e+00\n",
            "  0.00000000e+00  0.00000000e+00  0.00000000e+00  0.00000000e+00\n",
            "  0.00000000e+00  0.00000000e+00  0.00000000e+00  0.00000000e+00\n",
            "  0.00000000e+00  0.00000000e+00  0.00000000e+00  0.00000000e+00\n",
            "  0.00000000e+00  0.00000000e+00  1.12131702e-05  1.51377782e-04\n",
            "  1.51377782e-04  1.12131702e-05  7.16426221e-05 -1.47506222e-03\n",
            " -6.05976302e-03 -1.31380651e-03  7.58940951e-06  7.18360297e-06\n",
            "  2.95149221e-05  3.40134211e-05  2.46843638e-06  0.00000000e+00\n",
            "  0.00000000e+00  0.00000000e+00  0.00000000e+00  0.00000000e+00\n",
            "  0.00000000e+00  0.00000000e+00  0.00000000e+00  0.00000000e+00\n",
            "  0.00000000e+00  0.00000000e+00  0.00000000e+00  0.00000000e+00\n",
            "  2.64710843e-06  1.47481760e-05  1.23936974e-04  2.42211012e-04\n",
            "  2.64195580e-04  1.02640675e-04 -2.96935998e-03 -6.72357902e-03\n",
            " -7.77000608e-03 -3.26605677e-03  1.36857954e-04  1.19587472e-04\n",
            "  1.23540900e-04  1.30128683e-04  1.08144322e-05  0.00000000e+00\n",
            "  0.00000000e+00  0.00000000e+00  0.00000000e+00  0.00000000e+00\n",
            "  0.00000000e+00  0.00000000e+00  0.00000000e+00  0.00000000e+00\n",
            "  0.00000000e+00  9.89245336e-07  2.21553601e-05  3.08530034e-05\n",
            "  7.68608079e-05 -3.97685537e-04 -8.03919102e-04  3.15010868e-04\n",
            "  2.97711347e-04  2.98799190e-04 -1.25913182e-03 -7.47329555e-03\n",
            " -3.99461808e-03  5.18523902e-03  5.80205675e-03  3.21222306e-03\n",
            "  2.43571994e-04  1.31259396e-04  2.73806727e-05  1.31217794e-05\n",
            "  1.00692660e-05  0.00000000e+00  0.00000000e+00  0.00000000e+00\n",
            "  0.00000000e+00  0.00000000e+00  0.00000000e+00  0.00000000e+00\n",
            "  0.00000000e+00  2.73117735e-06 -6.20018283e-04 -5.37538086e-04\n",
            " -1.10325291e-05 -6.08556846e-04 -6.23339147e-04  4.64837765e-04\n",
            "  3.18893348e-04  3.55365133e-04 -5.21476753e-03 -7.41452677e-03\n",
            " -2.15091417e-03  3.49889090e-03  5.95161458e-03  5.78962639e-03\n",
            "  3.24000791e-03 -9.14709701e-04 -2.15180087e-04 -4.39134019e-04\n",
            " -5.51600533e-04 -2.73041460e-05  0.00000000e+00  0.00000000e+00\n",
            "  0.00000000e+00  0.00000000e+00  0.00000000e+00  0.00000000e+00\n",
            "  0.00000000e+00 -5.15657885e-04 -7.75467197e-04 -5.14564512e-04\n",
            " -6.58946083e-05 -8.63255758e-04 -5.92572906e-04  6.14477263e-04\n",
            "  5.46001596e-04 -1.66631606e-03 -7.00064469e-03 -4.54091374e-03\n",
            "  1.05883286e-03  1.09136757e-03  3.41766910e-03  5.02968905e-03\n",
            "  3.16740433e-03 -1.03362883e-03 -2.91858247e-04 -8.72941629e-04\n",
            " -1.20306457e-03 -1.64640718e-03 -8.13719234e-04  0.00000000e+00\n",
            "  0.00000000e+00  0.00000000e+00  0.00000000e+00  1.45701949e-06\n",
            "  1.57080158e-05 -6.21655839e-04 -4.39656433e-04 -1.65934616e-04\n",
            " -1.84684584e-04 -9.50146525e-04  1.38748917e-04  1.32527680e-03\n",
            "  1.01664569e-03 -4.70476877e-03 -5.85397799e-03 -3.67026805e-05\n",
            "  1.12308876e-03  6.93848473e-04  2.49430095e-03  4.54367511e-03\n",
            "  2.97740381e-03 -3.61813843e-04  6.22889143e-04 -1.77065202e-04\n",
            "  8.10984231e-04  1.37428258e-04 -8.10746453e-04  0.00000000e+00\n",
            "  0.00000000e+00  0.00000000e+00  0.00000000e+00  4.23229449e-06\n",
            " -2.08205121e-04 -5.48883399e-04 -3.15515121e-04  7.35700189e-04\n",
            " -2.29639190e-04 -3.23623797e-04  1.53546315e-03  3.44305742e-03\n",
            "  3.66098160e-04 -5.66477561e-03 -1.38627063e-03  2.77473405e-03\n",
            "  2.62695667e-03  3.53187555e-03  8.48155096e-03  7.21902587e-03\n",
            "  6.34240126e-03  2.91128713e-03  4.59874514e-03  6.08396949e-03\n",
            "  5.91405341e-03  2.83908844e-03  3.59884871e-05  0.00000000e+00\n",
            "  0.00000000e+00  0.00000000e+00  0.00000000e+00  2.80319199e-07\n",
            " -2.30165795e-04 -8.06135475e-04 -4.69246472e-04  2.85991933e-04\n",
            " -4.46999591e-04  8.40736378e-04  5.76469349e-03  3.13814217e-03\n",
            " -3.07710120e-03 -7.43080687e-04  4.74467548e-03  6.03469694e-03\n",
            "  5.96855488e-03  9.64587834e-03  5.16082300e-03  4.17261617e-03\n",
            "  5.58331981e-03  5.85681293e-03  6.43648393e-03  7.66781298e-03\n",
            "  4.63877060e-03  9.54836287e-05  0.00000000e+00  0.00000000e+00\n",
            "  0.00000000e+00  0.00000000e+00  0.00000000e+00  2.50862945e-06\n",
            " -2.11358507e-04 -8.28785996e-04 -6.59832149e-04  3.42051615e-04\n",
            "  1.59770087e-03  4.83686570e-03  2.59049237e-03 -2.01589521e-03\n",
            " -4.98329056e-03  1.85545720e-03  5.53478766e-03  6.28112629e-03\n",
            "  1.07148280e-02  8.78518261e-03  9.60586709e-04  3.95960349e-04\n",
            "  2.61277263e-03  4.65076370e-03  5.01389103e-03  4.76543698e-03\n",
            "  3.08779511e-03  0.00000000e+00  0.00000000e+00  0.00000000e+00\n",
            "  0.00000000e+00  0.00000000e+00  0.00000000e+00  2.57389343e-06\n",
            " -2.11512292e-04 -8.22298985e-04 -7.00674602e-04  3.52705945e-03\n",
            "  4.05784044e-03  4.77451785e-03 -4.37120500e-04 -4.96872189e-03\n",
            "  1.00546051e-03  3.89592093e-03  5.00716548e-03  8.84859078e-03\n",
            "  1.16834557e-02  4.93029365e-03 -3.09885270e-03  1.01727655e-03\n",
            "  2.96695321e-03  5.07309288e-03  5.10857580e-03  4.10897704e-03\n",
            "  9.30317387e-04  0.00000000e+00  0.00000000e+00  0.00000000e+00\n",
            "  0.00000000e+00  0.00000000e+00  0.00000000e+00  1.88856507e-06\n",
            " -2.20052083e-04 -8.07071512e-04  9.45200329e-04  4.52948408e-03\n",
            "  5.33939665e-03  1.62236753e-03 -9.10628354e-04  1.83592748e-03\n",
            "  6.60858117e-03  6.05060672e-03  9.38566960e-03  1.18587771e-02\n",
            "  8.58965889e-03 -1.52885006e-03 -4.57510306e-03  3.42125329e-03\n",
            "  4.61521372e-03  5.13787195e-03  4.53815935e-03  1.53725094e-03\n",
            "  0.00000000e+00  0.00000000e+00  0.00000000e+00  0.00000000e+00\n",
            "  0.00000000e+00  0.00000000e+00  0.00000000e+00  2.35954047e-07\n",
            " -6.23115047e-05  4.41993798e-05  3.97385238e-03  6.30419329e-03\n",
            "  4.27286234e-03 -1.53530564e-03  1.79167395e-03  9.56134219e-03\n",
            "  1.10321939e-02  1.35223558e-02  1.55715775e-02  1.25315618e-02\n",
            "  2.51462380e-03 -8.51758290e-03 -4.62999567e-03  4.57296055e-03\n",
            "  4.67121182e-03  4.60149068e-03  1.75281626e-03  6.51362061e-05\n",
            "  6.56902239e-06  0.00000000e+00  0.00000000e+00  0.00000000e+00\n",
            "  0.00000000e+00  0.00000000e+00  0.00000000e+00  0.00000000e+00\n",
            "  2.51014960e-08  3.46514303e-03  4.32112953e-03  6.13412866e-03\n",
            " -9.52247065e-05  2.62816856e-03  1.02385320e-02  1.31011987e-02\n",
            "  1.35453837e-02  1.29094664e-02  1.08561041e-02  5.30051440e-03\n",
            " -3.50217824e-03 -7.19062239e-03  3.12765781e-03  3.45300371e-03\n",
            "  2.98366765e-03  3.43324617e-04  1.76455214e-05  9.58853227e-04\n",
            "  1.07597560e-04  8.28676275e-05  0.00000000e+00  0.00000000e+00\n",
            "  0.00000000e+00  0.00000000e+00  0.00000000e+00  9.01512294e-07\n",
            "  1.17092975e-06  5.38435858e-03  8.93891603e-03  2.90773856e-03\n",
            " -4.48797038e-03  1.77632319e-04  6.22746348e-03  7.16805784e-03\n",
            "  7.69685395e-03  5.21145854e-03  3.66878067e-03  3.20248917e-04\n",
            "  1.37185678e-03  5.48385363e-03  8.92732013e-03  4.48275451e-03\n",
            "  2.63874466e-03  1.36036437e-03  3.75995203e-03  5.36209391e-03\n",
            "  2.74843362e-04  2.36764652e-04  0.00000000e+00  0.00000000e+00\n",
            "  0.00000000e+00  0.00000000e+00  0.00000000e+00  1.98954444e-06\n",
            "  6.55070471e-04  6.60042418e-03  1.19590797e-02 -2.48995237e-03\n",
            " -7.13888835e-03  1.79003284e-03  3.43207014e-03  2.68703257e-03\n",
            "  2.04559951e-03  1.18491845e-03 -2.58040917e-03 -1.44241878e-03\n",
            "  3.56147392e-03  1.11812847e-02  1.14275832e-02  6.69361604e-03\n",
            "  6.11722609e-03  5.97468484e-03  2.99610518e-04 -2.68950965e-03\n",
            " -1.18052063e-03  0.00000000e+00  0.00000000e+00  0.00000000e+00\n",
            "  0.00000000e+00  0.00000000e+00  0.00000000e+00  1.89628452e-06\n",
            "  2.78258696e-03  5.20946598e-03  8.85996595e-03  4.68881190e-04\n",
            " -1.88986410e-03  1.00441708e-03  3.02939233e-03  4.08284552e-03\n",
            "  2.39073159e-03 -1.85817631e-03 -5.37720136e-03 -2.70248950e-03\n",
            "  1.84452208e-03  9.04113986e-03  5.82465855e-03  2.21741269e-03\n",
            "  1.64739543e-03 -2.51709297e-03 -6.36618258e-03 -7.32757710e-03\n",
            " -2.65866751e-03  0.00000000e+00  0.00000000e+00  0.00000000e+00\n",
            "  0.00000000e+00  0.00000000e+00  7.04963981e-08  6.82190648e-06\n",
            "  4.14273981e-03  5.29260095e-03  5.98548772e-03  5.78414882e-03\n",
            "  1.03740123e-04  5.00093338e-05 -1.32011352e-04 -3.64312786e-03\n",
            " -6.18744688e-03 -4.46925312e-03  3.04841757e-04  1.34790945e-03\n",
            "  5.20659611e-04 -2.81273550e-03 -5.13820816e-03 -7.82606564e-03\n",
            " -7.41652492e-03 -6.28870912e-03 -3.93113401e-03 -6.05290930e-04\n",
            "  3.58764199e-04  0.00000000e+00  0.00000000e+00  0.00000000e+00\n",
            "  0.00000000e+00  0.00000000e+00  4.32275447e-05  1.01693338e-04\n",
            "  2.49209744e-03  5.46524348e-03  5.60318166e-03  6.24746596e-03\n",
            "  6.21816376e-03  2.31201807e-03 -2.77875247e-03 -4.43808828e-03\n",
            " -1.76396943e-03  9.91059118e-04  1.59692368e-03  2.29655090e-03\n",
            " -2.19882862e-03 -2.34282296e-03 -3.15680658e-03 -2.82561919e-03\n",
            "  8.71329612e-05  3.36434285e-04  3.60779813e-04  2.10063852e-04\n",
            "  3.11370422e-05  0.00000000e+00  0.00000000e+00  0.00000000e+00\n",
            "  0.00000000e+00  0.00000000e+00  1.30455082e-04  1.29941487e-04\n",
            "  1.42816192e-04  2.42296199e-04  3.68318229e-04  7.59820046e-04\n",
            "  5.36182255e-04 -1.01327023e-03 -7.17236311e-04  2.44547427e-03\n",
            "  8.67973920e-03  6.66521431e-04 -1.50135008e-03  1.75228040e-03\n",
            "  4.16764815e-04 -2.66515126e-04 -3.63230589e-04 -3.05943013e-06\n",
            "  2.99940031e-04  3.58532197e-05  2.60649213e-05  3.59248997e-06\n",
            "  7.88850457e-07  0.00000000e+00  0.00000000e+00  0.00000000e+00\n",
            "  0.00000000e+00  0.00000000e+00  9.29620946e-05  1.26859872e-04\n",
            "  1.42295583e-04  2.30327583e-04  3.96919728e-04  7.18788127e-04\n",
            " -5.87165123e-04 -2.03727139e-03  7.43179466e-04  5.29477745e-03\n",
            "  4.42069815e-03  5.36280713e-05 -5.41108474e-03 -4.20260418e-04\n",
            "  2.74774298e-04 -4.83279116e-04 -6.83825405e-04 -4.33896668e-04\n",
            "  1.68377155e-04  7.67119054e-05  8.63646346e-05  1.69005725e-05\n",
            "  3.12111229e-06  4.21776427e-08  0.00000000e+00  0.00000000e+00\n",
            "  0.00000000e+00  0.00000000e+00  0.00000000e+00  3.27615879e-07\n",
            "  1.90646351e-05  9.03480468e-05  2.07843404e-04 -3.88757093e-04\n",
            " -2.39066244e-03  1.77995214e-04  5.18243061e-03  5.06053027e-03\n",
            "  3.91571317e-03  1.05579605e-03  5.17483277e-04  2.98030500e-04\n",
            " -2.79597705e-04 -5.45118120e-04 -6.01224485e-04 -6.29560673e-04\n",
            "  1.60858661e-04  1.21016223e-04  7.13795016e-05  3.52436427e-06\n",
            "  2.20429683e-06  0.00000000e+00  0.00000000e+00  0.00000000e+00\n",
            "  0.00000000e+00  0.00000000e+00  0.00000000e+00  1.36219239e-06\n",
            "  1.97293266e-05  5.96982427e-05 -2.10458442e-04 -1.57470512e-03\n",
            " -1.26672516e-04  4.29037027e-03  4.85712523e-03  4.10093227e-03\n",
            "  4.92157706e-04  3.59240774e-04  7.44599034e-04  5.28068995e-05\n",
            "  1.86652484e-04 -5.79067797e-04 -6.49249065e-04 -5.43927657e-04\n",
            "  1.68814062e-04  1.06378277e-04  2.02333399e-06  9.56987378e-07\n",
            "  3.44085350e-07  0.00000000e+00  0.00000000e+00  0.00000000e+00\n",
            "  0.00000000e+00  0.00000000e+00  0.00000000e+00  1.36219239e-06\n",
            "  7.28364057e-06  2.31374979e-05 -1.33002957e-03  3.68590787e-04\n",
            "  4.58463980e-03  5.11718681e-03  4.63242270e-03  1.24954968e-03\n",
            " -5.62283967e-04  7.60275230e-04  1.57970178e-03  9.52519826e-04\n",
            "  3.58875404e-04 -4.43306810e-04 -7.08856795e-04 -1.08362990e-04\n",
            "  1.60929587e-04  1.03085571e-04  4.26782634e-07  0.00000000e+00\n",
            "  0.00000000e+00  0.00000000e+00  0.00000000e+00  0.00000000e+00\n",
            "  0.00000000e+00  0.00000000e+00  0.00000000e+00  0.00000000e+00\n",
            "  0.00000000e+00  1.74897491e-06  5.85443864e-04  4.19581868e-03\n",
            "  4.53775004e-03  4.49024001e-03  2.53393990e-03  1.18999145e-04\n",
            "  4.22061858e-04  8.61296721e-04  8.30568082e-04  9.18004953e-04\n",
            "  2.78859952e-04  1.58940777e-04  2.00362883e-05  0.00000000e+00\n",
            "  0.00000000e+00  0.00000000e+00  0.00000000e+00  0.00000000e+00\n",
            "  0.00000000e+00  0.00000000e+00  0.00000000e+00  0.00000000e+00\n",
            "  0.00000000e+00  0.00000000e+00  0.00000000e+00  0.00000000e+00\n",
            "  0.00000000e+00  6.91697351e-05  2.04921598e-04  5.70781631e-05\n",
            "  2.75647108e-06  5.07256755e-06  3.57180056e-06  2.44091370e-06\n",
            "  4.33683817e-06  1.89668190e-05  4.00400641e-05  5.52895828e-04\n",
            "  4.96088469e-04  2.09340564e-04  5.21093643e-05  0.00000000e+00\n",
            "  0.00000000e+00  0.00000000e+00  0.00000000e+00  0.00000000e+00\n",
            "  0.00000000e+00  0.00000000e+00  0.00000000e+00  0.00000000e+00\n",
            "  0.00000000e+00  0.00000000e+00  0.00000000e+00  0.00000000e+00\n",
            "  0.00000000e+00  0.00000000e+00  0.00000000e+00  0.00000000e+00\n",
            "  0.00000000e+00  0.00000000e+00  0.00000000e+00  0.00000000e+00\n",
            "  0.00000000e+00  1.02783702e-06  1.89682651e-05  2.35468124e-05\n",
            "  1.11193276e-05  0.00000000e+00  0.00000000e+00  0.00000000e+00\n",
            "  0.00000000e+00  0.00000000e+00  0.00000000e+00  0.00000000e+00\n",
            "  0.00000000e+00  0.00000000e+00  0.00000000e+00  0.00000000e+00]\n",
            "Época [5/5], Perda: 2.7624, Acurácia: 0.9400\n",
            "Gradientes da classe 4 na época 5:\n",
            " [ 0.00000000e+00  0.00000000e+00  0.00000000e+00  0.00000000e+00\n",
            "  0.00000000e+00  0.00000000e+00  0.00000000e+00  0.00000000e+00\n",
            "  0.00000000e+00  0.00000000e+00  0.00000000e+00  0.00000000e+00\n",
            "  0.00000000e+00  0.00000000e+00  0.00000000e+00  0.00000000e+00\n",
            "  0.00000000e+00  0.00000000e+00  0.00000000e+00  0.00000000e+00\n",
            "  0.00000000e+00  0.00000000e+00  0.00000000e+00  0.00000000e+00\n",
            "  0.00000000e+00  0.00000000e+00  0.00000000e+00  0.00000000e+00\n",
            "  0.00000000e+00  0.00000000e+00  0.00000000e+00  0.00000000e+00\n",
            "  0.00000000e+00  0.00000000e+00  0.00000000e+00  0.00000000e+00\n",
            "  0.00000000e+00  0.00000000e+00  0.00000000e+00  0.00000000e+00\n",
            "  0.00000000e+00  0.00000000e+00  0.00000000e+00  1.66829646e-04\n",
            "  2.22730669e-04  5.59010332e-05  0.00000000e+00  0.00000000e+00\n",
            "  0.00000000e+00  0.00000000e+00  0.00000000e+00  0.00000000e+00\n",
            "  0.00000000e+00  0.00000000e+00  0.00000000e+00  0.00000000e+00\n",
            "  0.00000000e+00  0.00000000e+00  0.00000000e+00  0.00000000e+00\n",
            "  0.00000000e+00  0.00000000e+00  0.00000000e+00  0.00000000e+00\n",
            "  0.00000000e+00  0.00000000e+00  0.00000000e+00  0.00000000e+00\n",
            "  2.50135839e-04  2.39200948e-04  2.10569240e-04  2.22787276e-04\n",
            "  2.23579729e-04  4.18872014e-06  6.80238372e-06  6.13321436e-06\n",
            "  3.37739129e-06  0.00000000e+00  0.00000000e+00  0.00000000e+00\n",
            "  0.00000000e+00  0.00000000e+00  0.00000000e+00  0.00000000e+00\n",
            "  0.00000000e+00  0.00000000e+00  0.00000000e+00  0.00000000e+00\n",
            "  0.00000000e+00  0.00000000e+00  3.39196481e-06  1.00866318e-05\n",
            "  1.84772816e-05  2.25833428e-05  2.27649834e-05  2.26137236e-05\n",
            "  1.76848771e-04  4.07565123e-04  5.61320339e-04  4.02187346e-04\n",
            "  3.46246292e-04  1.89853308e-04  1.54301219e-04  1.29858308e-05\n",
            "  5.72782938e-06  0.00000000e+00  0.00000000e+00  0.00000000e+00\n",
            "  0.00000000e+00  0.00000000e+00  0.00000000e+00  0.00000000e+00\n",
            "  0.00000000e+00  0.00000000e+00  0.00000000e+00  0.00000000e+00\n",
            "  0.00000000e+00  3.39196481e-06  1.95484281e-05  2.24940813e-05\n",
            "  2.24940813e-05  2.25420008e-05  2.25918149e-04  2.79303640e-04\n",
            "  2.45538598e-04  6.80836441e-04  1.89938734e-03  1.89657276e-03\n",
            "  1.44321320e-03  1.03453384e-03  5.36065781e-04  5.23506198e-04\n",
            "  3.50532908e-04  2.25280543e-04  6.29090864e-05  4.10506618e-06\n",
            "  3.46759123e-07  0.00000000e+00  0.00000000e+00  0.00000000e+00\n",
            "  0.00000000e+00  0.00000000e+00  0.00000000e+00  0.00000000e+00\n",
            "  0.00000000e+00  1.70490857e-05  2.24940813e-05  2.13340245e-05\n",
            "  2.11356437e-05  1.86350662e-05  1.68968836e-06 -1.43258041e-03\n",
            "  1.81364920e-03  2.05124728e-03  2.51738634e-03  3.00547574e-03\n",
            "  4.22963640e-03  3.63435992e-03  3.14832199e-03  1.72172440e-03\n",
            "  7.88982899e-04  4.47210274e-04 -7.82889372e-04 -3.53509327e-03\n",
            " -4.56487946e-03 -2.04097317e-03  2.49539028e-07  0.00000000e+00\n",
            "  0.00000000e+00  0.00000000e+00  0.00000000e+00  4.75564320e-06\n",
            "  4.75564320e-06  8.83344110e-05  3.98828444e-04  4.56397567e-04\n",
            "  4.59537609e-04  2.29396694e-03  1.98378135e-03  5.35813393e-03\n",
            "  6.49280893e-03  4.79914621e-03  5.77571010e-03  6.22121291e-03\n",
            "  8.27683695e-03  4.13926318e-03  5.64152026e-04  1.66619336e-03\n",
            "  1.41763827e-03 -2.74486863e-03 -4.53354605e-03 -3.46573023e-03\n",
            " -1.01978227e-03  0.00000000e+00  0.00000000e+00  0.00000000e+00\n",
            "  0.00000000e+00  0.00000000e+00  0.00000000e+00  1.72561922e-04\n",
            "  1.71882537e-04  2.21631999e-04  5.00568713e-04  1.99262216e-03\n",
            "  5.22495201e-03  6.71696570e-03  3.39468848e-03 -1.48081032e-04\n",
            " -1.00684993e-03  4.59163450e-04  2.98562250e-03  9.64357983e-03\n",
            "  1.34400092e-02  2.23993883e-03 -9.58972087e-04  8.09255347e-04\n",
            " -2.65762955e-03 -4.06951038e-03 -3.59093701e-03 -3.55002354e-04\n",
            "  1.43641209e-05  1.36665321e-05  0.00000000e+00  0.00000000e+00\n",
            "  0.00000000e+00  0.00000000e+00  0.00000000e+00  1.60333118e-04\n",
            "  1.55577480e-04  2.03434189e-04  1.11790129e-03  5.59983263e-03\n",
            "  8.18481483e-03  1.75501290e-03 -3.20005696e-03 -4.29976644e-04\n",
            "  5.58702927e-03  2.80557200e-03  2.77854910e-04  2.73728999e-03\n",
            "  1.16896397e-02  5.22960117e-03  9.93066584e-04 -2.95791635e-03\n",
            " -4.02524043e-03 -2.09821574e-03  2.44693574e-03  6.62001548e-03\n",
            "  3.75963002e-03  9.34495329e-05  0.00000000e+00  0.00000000e+00\n",
            "  0.00000000e+00  0.00000000e+00  0.00000000e+00  5.67353936e-06\n",
            "  2.77598192e-05  6.42066239e-04  3.95522313e-03  8.30322132e-03\n",
            "  5.19688427e-03 -2.29414436e-03 -6.62133098e-04  5.58232889e-03\n",
            "  5.96559513e-03 -1.29844924e-03 -2.04149634e-03 -8.68431584e-04\n",
            "  6.67465571e-03  8.00473616e-03  8.97671387e-04 -3.96600831e-03\n",
            " -4.44079778e-05  4.33983793e-03  2.27861339e-03  6.86348183e-03\n",
            "  4.89419652e-03  6.94407572e-05  0.00000000e+00  0.00000000e+00\n",
            "  0.00000000e+00  0.00000000e+00  0.00000000e+00  4.37673043e-05\n",
            "  5.12644801e-05  8.17110005e-04  5.62278461e-03  7.82236923e-03\n",
            "  4.01361333e-03 -3.46879684e-03  1.01718889e-03  5.50483959e-03\n",
            " -4.67973296e-04 -2.63487198e-03 -3.32473987e-03  1.26916124e-03\n",
            "  7.27917114e-03  1.04031013e-02  5.67110907e-03  1.63914985e-03\n",
            "  5.21678664e-03  1.52441231e-03  2.70332675e-03  6.76691206e-03\n",
            "  4.71469993e-03  0.00000000e+00  0.00000000e+00  0.00000000e+00\n",
            "  0.00000000e+00  0.00000000e+00  0.00000000e+00  2.69493139e-05\n",
            "  5.12644801e-05  7.73179810e-04  5.63392742e-03  9.26101021e-03\n",
            "  5.10742981e-03 -4.41400800e-03  1.68884767e-03 -2.56652571e-03\n",
            " -5.43944212e-03 -3.27024492e-03  1.46149134e-03  5.71532873e-03\n",
            "  1.02544911e-02  1.13726249e-02  8.18508305e-03  3.56508815e-03\n",
            "  2.18665926e-03  1.10138173e-03  2.02152785e-03  6.12363266e-03\n",
            "  1.23975973e-03  0.00000000e+00  0.00000000e+00  0.00000000e+00\n",
            "  0.00000000e+00  0.00000000e+00  0.00000000e+00  2.43151680e-06\n",
            " -5.37757251e-06 -8.02291092e-04  6.90433756e-03  9.53214336e-03\n",
            "  3.67476884e-03 -2.41781166e-03 -4.29341663e-03 -5.21051371e-03\n",
            " -7.82713946e-03 -5.87463006e-03 -2.04050797e-03  1.04156998e-03\n",
            "  7.92461564e-04  8.57048389e-03  1.07515613e-02  3.15346010e-03\n",
            "  4.68094280e-04  1.26168795e-03  2.89924582e-03  2.03321991e-03\n",
            "  4.29855447e-07  0.00000000e+00  0.00000000e+00  0.00000000e+00\n",
            "  0.00000000e+00  0.00000000e+00  0.00000000e+00  0.00000000e+00\n",
            " -3.64634208e-04 -5.11159415e-05  9.91978217e-03  5.84841194e-03\n",
            "  4.73196013e-03 -1.78926028e-04 -8.25273339e-03 -7.63649261e-03\n",
            " -5.30169625e-03 -1.87949557e-03 -5.48842771e-04 -1.38622243e-04\n",
            "  1.79280667e-03  2.32278532e-03  3.01632308e-03 -2.59627239e-04\n",
            "  2.06734822e-03  1.34420604e-03 -4.44946127e-05  5.22534174e-06\n",
            "  9.12706810e-07  0.00000000e+00  0.00000000e+00  0.00000000e+00\n",
            "  0.00000000e+00  0.00000000e+00  0.00000000e+00  0.00000000e+00\n",
            " -5.01907838e-04  4.21729172e-03  8.65523610e-03  7.19475374e-03\n",
            "  8.21143575e-03  6.01918437e-03  7.27279927e-04 -4.52772388e-03\n",
            " -1.93927670e-03 -2.33845742e-04 -1.82464253e-03 -3.12957028e-03\n",
            " -6.57281955e-04 -2.74623104e-04  5.14789531e-03 -1.55126632e-04\n",
            "  1.72313512e-03 -2.17261235e-03 -5.58926840e-04  6.88987075e-06\n",
            "  2.43735440e-06  0.00000000e+00  0.00000000e+00  0.00000000e+00\n",
            "  0.00000000e+00  0.00000000e+00  0.00000000e+00  7.48242201e-07\n",
            " -2.32286930e-05  5.27322618e-03  7.56174093e-03  8.82440526e-03\n",
            "  5.38284285e-03  5.20777842e-03  3.71066714e-03  2.96602352e-03\n",
            " -1.55736619e-04 -7.28241692e-04  1.06017338e-03  4.80993465e-03\n",
            "  7.03130057e-03  7.99970794e-03  8.78824666e-03  4.26336518e-03\n",
            " -1.63437647e-03  2.62459089e-05 -2.23266659e-04 -1.80933581e-04\n",
            "  5.54596409e-06  0.00000000e+00  0.00000000e+00  0.00000000e+00\n",
            "  0.00000000e+00  0.00000000e+00  0.00000000e+00  1.65129313e-06\n",
            "  1.82731619e-05  3.89569276e-03  6.25294214e-03  3.13830422e-03\n",
            "  7.23156566e-03  1.18045192e-02  9.56040993e-03  9.47299507e-03\n",
            "  9.86937713e-03  8.29366874e-03  9.70216095e-03  1.42783001e-02\n",
            "  9.53417365e-03  9.80618782e-03  7.39927264e-03  8.86247784e-04\n",
            " -3.72534792e-04 -4.91791798e-05 -4.71882056e-04 -3.59309124e-05\n",
            "  6.17617025e-06  0.00000000e+00  0.00000000e+00  0.00000000e+00\n",
            "  0.00000000e+00  0.00000000e+00  0.00000000e+00  7.36726633e-06\n",
            "  2.69017637e-05  2.78525287e-03  2.97835283e-03  2.70998874e-03\n",
            "  3.14327655e-03  6.70441100e-03  9.12721641e-03  1.06217721e-02\n",
            "  7.52358418e-03  7.48567516e-03  1.19965719e-02  1.42813483e-02\n",
            "  3.26611684e-03  7.07985647e-03  5.62621513e-03  4.33357013e-03\n",
            "  3.62775242e-03  2.07341788e-03  2.30446248e-03  2.82838382e-03\n",
            "  2.33179610e-03  0.00000000e+00  0.00000000e+00  0.00000000e+00\n",
            "  0.00000000e+00  0.00000000e+00  0.00000000e+00  2.67733612e-05\n",
            " -6.28973939e-04  2.15005968e-03  3.25241196e-03  3.19568510e-03\n",
            "  1.95346377e-03  2.38419278e-03 -6.14231918e-04 -2.89880182e-03\n",
            " -1.39777921e-03  4.87793889e-03  1.07764658e-02  4.00582189e-03\n",
            " -4.43933735e-04  1.36883836e-03  5.93419466e-03  7.53769185e-03\n",
            "  5.34706051e-03  3.59160430e-03  2.27356236e-03  1.30544649e-03\n",
            "  6.81835576e-04  0.00000000e+00  0.00000000e+00  0.00000000e+00\n",
            "  0.00000000e+00  0.00000000e+00  7.45251236e-05  2.04134965e-04\n",
            "  6.57137934e-05  4.55914269e-04  8.85582005e-04  7.88935693e-04\n",
            "  6.32898475e-04  1.78018672e-04 -1.87476224e-03 -2.78392853e-03\n",
            "  1.41216302e-03  8.60425178e-03  6.68121921e-03 -1.54022675e-03\n",
            " -5.68536483e-03 -1.13317231e-03  4.79031960e-03  6.49613701e-03\n",
            "  2.64394330e-03  9.57604672e-04  1.10846413e-04  1.12861608e-05\n",
            "  9.31516479e-06  0.00000000e+00  0.00000000e+00  0.00000000e+00\n",
            "  0.00000000e+00  0.00000000e+00  2.25349781e-04  2.52296624e-04\n",
            "  4.14713228e-04  6.24046894e-04  7.07285595e-04  4.72990680e-04\n",
            " -1.01429818e-03 -3.19268345e-03 -2.38104304e-03  2.79427832e-03\n",
            "  8.87670834e-03  7.73853390e-03  8.66470276e-04 -5.98392915e-03\n",
            " -6.43795962e-03  1.68590073e-03  5.28551918e-03  6.07570121e-03\n",
            "  3.50524927e-03  6.42717700e-04  1.46135324e-04  2.53033195e-05\n",
            "  2.00271024e-05  0.00000000e+00  0.00000000e+00  0.00000000e+00\n",
            "  0.00000000e+00  0.00000000e+00  1.60583906e-04  2.28171819e-04\n",
            "  3.82661878e-04  6.01503067e-04  6.78640383e-04  6.09190029e-04\n",
            " -4.06158995e-03 -3.87232285e-03  9.71133064e-04  8.76460690e-03\n",
            "  9.46674962e-03  4.97392425e-03 -5.00029698e-03 -8.07742123e-03\n",
            " -3.46753770e-03  5.80892293e-03  5.42828208e-03  5.09978877e-03\n",
            "  4.16439772e-03  2.00869705e-04  1.24184095e-04  1.94195436e-05\n",
            "  3.30270245e-06  0.00000000e+00  0.00000000e+00  0.00000000e+00\n",
            "  0.00000000e+00  0.00000000e+00  0.00000000e+00  0.00000000e+00\n",
            "  1.21906734e-04  2.88883602e-04  4.41676239e-04 -3.08566610e-03\n",
            " -4.05001733e-03 -1.87413782e-04  6.89283293e-03  8.43597669e-03\n",
            "  9.92937107e-03 -2.12501059e-03 -7.61247287e-03 -5.66395931e-03\n",
            "  3.16906735e-05  6.16054563e-03  2.97421776e-03  4.87567252e-03\n",
            "  4.34730900e-03  2.89248565e-04  6.11466821e-05  0.00000000e+00\n",
            "  0.00000000e+00  0.00000000e+00  0.00000000e+00  0.00000000e+00\n",
            "  0.00000000e+00  0.00000000e+00  0.00000000e+00  0.00000000e+00\n",
            "  6.11436408e-05  2.40675305e-04 -1.21847505e-03 -4.12955275e-03\n",
            " -1.09853782e-03  6.16846560e-03  7.15432921e-03  6.85626501e-03\n",
            "  3.94599279e-04 -4.71279630e-03 -6.45872345e-03 -2.24685459e-03\n",
            "  1.82512240e-03  3.85113852e-03  4.38572746e-03  4.38532140e-03\n",
            "  4.73899720e-03  9.61192418e-04  3.39688813e-06  0.00000000e+00\n",
            "  0.00000000e+00  0.00000000e+00  0.00000000e+00  0.00000000e+00\n",
            "  0.00000000e+00  0.00000000e+00  0.00000000e+00  0.00000000e+00\n",
            "  8.25370080e-06  6.14035162e-05 -2.92857923e-03 -2.04251101e-03\n",
            "  5.50322793e-03  6.92786742e-03  6.84487540e-03 -1.65299367e-04\n",
            " -4.16287221e-03 -6.45535858e-03 -5.70341386e-03  1.27758132e-03\n",
            " -1.55608344e-03  1.23492698e-03  2.10935157e-03  5.20710368e-03\n",
            "  5.77892736e-03  2.73472117e-03  6.79377649e-07  0.00000000e+00\n",
            "  0.00000000e+00  0.00000000e+00  0.00000000e+00  0.00000000e+00\n",
            "  0.00000000e+00  0.00000000e+00  0.00000000e+00  0.00000000e+00\n",
            "  1.15539910e-06  3.56482883e-06  8.46828567e-04  5.48662152e-03\n",
            "  5.96858934e-03  5.99538675e-03  3.43152415e-03  2.46710464e-04\n",
            "  4.27252206e-04 -1.75148016e-03 -2.42761662e-03  1.02402258e-03\n",
            " -3.42589803e-04 -2.45405198e-03  2.49139033e-03  5.63405827e-03\n",
            "  4.94686607e-03  7.41291209e-04  0.00000000e+00  0.00000000e+00\n",
            "  0.00000000e+00  0.00000000e+00  0.00000000e+00  0.00000000e+00\n",
            "  0.00000000e+00  0.00000000e+00  0.00000000e+00  0.00000000e+00\n",
            "  1.15539910e-06  5.43866190e-05  2.36200416e-04  1.26811676e-04\n",
            "  2.46388954e-05  7.41318809e-06  3.86977854e-06  3.16008773e-05\n",
            "  5.15772990e-05  5.15404427e-05  3.16761609e-04  3.54827003e-04\n",
            "  2.96603335e-04  1.25239763e-04  4.11043329e-05  0.00000000e+00\n",
            "  0.00000000e+00  0.00000000e+00  0.00000000e+00  0.00000000e+00\n",
            "  0.00000000e+00  0.00000000e+00  0.00000000e+00  0.00000000e+00\n",
            "  0.00000000e+00  0.00000000e+00  0.00000000e+00  0.00000000e+00\n",
            "  0.00000000e+00  0.00000000e+00  1.58411258e-05  2.39701239e-05\n",
            "  4.48137098e-06  0.00000000e+00  2.43151680e-06  4.11331603e-05\n",
            "  5.12644801e-05  4.39699288e-05  4.45778096e-06  0.00000000e+00\n",
            "  0.00000000e+00  0.00000000e+00  0.00000000e+00  0.00000000e+00\n",
            "  0.00000000e+00  0.00000000e+00  0.00000000e+00  0.00000000e+00\n",
            "  0.00000000e+00  0.00000000e+00  0.00000000e+00  0.00000000e+00]\n"
          ]
        }
      ]
    },
    {
      "cell_type": "markdown",
      "metadata": {
        "id": "8UjOANOOe4Es"
      },
      "source": [
        "<details>\n",
        "<summary>Mostrar Resultado</summary>\n",
        "\n",
        "```python\n",
        "from IPython import display\n",
        "import numpy\n",
        "a = 5\n",
        "losses = []\n",
        "zs = []\n",
        "fig = plt.figure(figsize=(18, 6))\n",
        "\n",
        "try:\n",
        "    for i in range(epochs):\n",
        "        # Transforma a entrada para uma dimensão\n",
        "        inputs = Variable(x_train.view(-1, 28 * 28))\n",
        "        # Predict da rede\n",
        "        outputs = model(inputs)\n",
        "        zs.append(outputs[1].detach().numpy())\n",
        "\n",
        "        # calcula a perda\n",
        "        loss = criterion(outputs, Variable(y_train))\n",
        "\n",
        "        # zero, backpropagation, ajusta parâmetros pelo gradiente descendente\n",
        "        optimizer.zero_grad()\n",
        "        loss.backward()\n",
        "        optimizer.step()\n",
        "\n",
        "        losses.append(loss.data)\n",
        "        weights_d = model.weight.data[4].numpy().reshape(28,28)\n",
        "        weights_g = model.weight.grad.data[4].numpy().reshape(28,28)\n",
        "        ww = np.concatenate((weights_d,weights_g),1)\n",
        "        plt.imshow(ww.reshape((28,28*2)),cmap = 'gray')\n",
        "        display.display(fig)\n",
        "        display.clear_output(wait=True)\n",
        "        input(i)\n",
        "        \n",
        "        _, predicts = torch.max(outputs, 1)\n",
        "\n",
        "        y_pred = predicts.data\n",
        "        accuracy = (y_pred.numpy() == y_train.numpy()).mean()\n",
        "        print('Accuracy:', accuracy)\n",
        "        print(\"epoca: \" + str(i + 1))\n",
        "        print(\"perda: \" + str(loss.data.detach().numpy()))\n",
        "except KeyboardInterrupt:\n",
        "    pass\n",
        "```\n",
        "\n",
        "</details>\n",
        "\n"
      ]
    },
    {
      "cell_type": "markdown",
      "metadata": {
        "heading_collapsed": true,
        "id": "WNYt_-zhmvR7"
      },
      "source": [
        "## Perguntas"
      ]
    },
    {
      "cell_type": "markdown",
      "metadata": {
        "hidden": true,
        "id": "joaXY_W3mvR9"
      },
      "source": [
        "1. Qual é o shape da matriz de entrada na rede?\n",
        "\n",
        "  R: Shape da matriz de entrada na rede: (batch_size, 784)\n",
        "\n",
        "2. Qual é o shape da saída da rede?\n",
        "\n",
        "  R: Shape da saída da rede: (batch_size, 10)\n",
        "\n",
        "3. Qual é o número total de parâmetros da rede, incluindo o bias?\n",
        "\n",
        "  R: Número total de parâmetros da rede, incluindo o bias: 7850\n"
      ]
    },
    {
      "cell_type": "markdown",
      "metadata": {
        "id": "WzWdNQ6PmvR9"
      },
      "source": [
        "# Aprendizados\n"
      ]
    },
    {
      "cell_type": "markdown",
      "source": [
        "1.   Redes simples conseguem bons resultados com MNIST.\n",
        "2.   Visualizar métricas e pesos ajuda a entender o aprendizado.\n",
        "3.   Escolha do minibatch afeta a estabilidade e a velocidade do treinamento.\n",
        "\n",
        "\n"
      ],
      "metadata": {
        "id": "N7Z6WcVtZ515"
      }
    }
  ],
  "metadata": {
    "accelerator": "GPU",
    "colab": {
      "provenance": []
    },
    "kernelspec": {
      "display_name": "Python 3.10.2 64-bit",
      "language": "python",
      "name": "python3"
    },
    "language_info": {
      "name": "python",
      "version": "3.10.2"
    },
    "vscode": {
      "interpreter": {
        "hash": "5fe3e6f0cdaab8afdc61c52912fda83f7c0a71baaea1897dd7498e2df01e69ec"
      }
    }
  },
  "nbformat": 4,
  "nbformat_minor": 0
}